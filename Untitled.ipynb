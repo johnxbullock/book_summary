{
 "cells": [
  {
   "cell_type": "code",
   "execution_count": 70,
   "id": "9253f2c455ccd169",
   "metadata": {
    "collapsed": false,
    "ExecuteTime": {
     "end_time": "2024-04-17T12:42:02.670886Z",
     "start_time": "2024-04-17T12:42:02.647897Z"
    }
   },
   "outputs": [],
   "source": [
    "import numpy as np\n",
    "import pandas as pd\n",
    "import nltk\n",
    "import json\n",
    "import re\n",
    "import csv\n",
    "from tqdm import tqdm\n",
    "import matplotlib.pyplot as plt\n",
    "from time import time \n",
    "\n",
    "\n",
    "import seaborn as sns\n",
    "from collections import Counter\n",
    "\n",
    "\n",
    "import transformers"
   ]
  },
  {
   "cell_type": "code",
   "outputs": [
    {
     "name": "stderr",
     "output_type": "stream",
     "text": [
      "[nltk_data] Downloading package stopwords to\n",
      "[nltk_data]     C:\\Users\\Lenovo\\AppData\\Roaming\\nltk_data...\n",
      "[nltk_data]   Package stopwords is already up-to-date!\n"
     ]
    }
   ],
   "source": [
    "# test the bert model \n",
    "from transformers import DistilBertTokenizer\n",
    "from transformers import TFDistilBertForSequenceClassification\n",
    "from transformers import TextClassificationPipeline\n",
    "\n",
    "import tensorflow as tf\n",
    "import pandas as pd\n",
    "import json\n",
    "import gc\n",
    "\n",
    "from sklearn.feature_extraction.text import TfidfVectorizer\n",
    "from sklearn.preprocessing import MultiLabelBinarizer\n",
    "from scipy.sparse import hstack\n",
    "from sklearn.model_selection import train_test_split\n",
    "from sklearn.metrics import f1_score\n",
    "from sklearn.metrics import precision_score\n",
    "from sklearn.metrics import recall_score\n",
    "from sklearn.pipeline import Pipeline\n",
    "from sklearn.naive_bayes import MultinomialNB\n",
    "from sklearn.metrics import accuracy_score\n",
    "# train the model using Naive Bayes model\n",
    "from sklearn.pipeline import Pipeline\n",
    "from sklearn.multiclass import OneVsRestClassifier\n",
    "from sklearn.naive_bayes import MultinomialNB\n",
    "import joblib\n",
    "import re\n",
    "import nltk\n",
    "from nltk.corpus import stopwords\n",
    "nltk.download('stopwords')\n",
    "stopw = stopwords.words('english')\n",
    "from matplotlib import pyplot as plt\n",
    "from plotly.offline import iplot\n",
    "from tqdm import tqdm"
   ],
   "metadata": {
    "ExecuteTime": {
     "end_time": "2024-04-17T12:49:08.028904Z",
     "start_time": "2024-04-17T12:49:08.002920Z"
    }
   },
   "id": "231e5e70",
   "execution_count": 92
  },
  {
   "cell_type": "code",
   "execution_count": 93,
   "id": "c141388b",
   "metadata": {
    "ExecuteTime": {
     "end_time": "2024-04-17T12:49:12.843320Z",
     "start_time": "2024-04-17T12:49:11.832766Z"
    }
   },
   "outputs": [],
   "source": [
    "df = pd.read_csv('booksummaries.txt', sep='\\t',\n",
    "                 names=['id1', 'id2', 'title', 'author', 'year', 'genres', 'summary'],\n",
    "                 usecols=[2, 3, 5, 6], converters={'genres' : lambda s : (list(json.loads(s).values()) if s else None)})"
   ]
  },
  {
   "cell_type": "code",
   "execution_count": 94,
   "id": "a26e1284",
   "metadata": {
    "ExecuteTime": {
     "end_time": "2024-04-17T12:49:16.354331Z",
     "start_time": "2024-04-17T12:49:16.313355Z"
    }
   },
   "outputs": [
    {
     "data": {
      "text/plain": "                                       title           author  \\\n0                                Animal Farm    George Orwell   \n1                         A Clockwork Orange  Anthony Burgess   \n2                                 The Plague     Albert Camus   \n3  An Enquiry Concerning Human Understanding       David Hume   \n4                       A Fire Upon the Deep     Vernor Vinge   \n\n                                              genres  \\\n0  [Roman à clef, Satire, Children's literature, ...   \n1  [Science Fiction, Novella, Speculative fiction...   \n2  [Existentialism, Fiction, Absurdist fiction, N...   \n3                                               None   \n4  [Hard science fiction, Science Fiction, Specul...   \n\n                                             summary  \n0   Old Major, the old boar on the Manor Farm, ca...  \n1   Alex, a teenager living in near-future Englan...  \n2   The text of The Plague is divided into five p...  \n3   The argument of the Enquiry proceeds by a ser...  \n4   The novel posits that space around the Milky ...  ",
      "text/html": "<div>\n<style scoped>\n    .dataframe tbody tr th:only-of-type {\n        vertical-align: middle;\n    }\n\n    .dataframe tbody tr th {\n        vertical-align: top;\n    }\n\n    .dataframe thead th {\n        text-align: right;\n    }\n</style>\n<table border=\"1\" class=\"dataframe\">\n  <thead>\n    <tr style=\"text-align: right;\">\n      <th></th>\n      <th>title</th>\n      <th>author</th>\n      <th>genres</th>\n      <th>summary</th>\n    </tr>\n  </thead>\n  <tbody>\n    <tr>\n      <th>0</th>\n      <td>Animal Farm</td>\n      <td>George Orwell</td>\n      <td>[Roman à clef, Satire, Children's literature, ...</td>\n      <td>Old Major, the old boar on the Manor Farm, ca...</td>\n    </tr>\n    <tr>\n      <th>1</th>\n      <td>A Clockwork Orange</td>\n      <td>Anthony Burgess</td>\n      <td>[Science Fiction, Novella, Speculative fiction...</td>\n      <td>Alex, a teenager living in near-future Englan...</td>\n    </tr>\n    <tr>\n      <th>2</th>\n      <td>The Plague</td>\n      <td>Albert Camus</td>\n      <td>[Existentialism, Fiction, Absurdist fiction, N...</td>\n      <td>The text of The Plague is divided into five p...</td>\n    </tr>\n    <tr>\n      <th>3</th>\n      <td>An Enquiry Concerning Human Understanding</td>\n      <td>David Hume</td>\n      <td>None</td>\n      <td>The argument of the Enquiry proceeds by a ser...</td>\n    </tr>\n    <tr>\n      <th>4</th>\n      <td>A Fire Upon the Deep</td>\n      <td>Vernor Vinge</td>\n      <td>[Hard science fiction, Science Fiction, Specul...</td>\n      <td>The novel posits that space around the Milky ...</td>\n    </tr>\n  </tbody>\n</table>\n</div>"
     },
     "execution_count": 94,
     "metadata": {},
     "output_type": "execute_result"
    }
   ],
   "source": [
    "df.head()"
   ]
  },
  {
   "cell_type": "code",
   "outputs": [],
   "source": [
    "all_genres = []"
   ],
   "metadata": {
    "ExecuteTime": {
     "end_time": "2024-04-17T12:49:16.384316Z",
     "start_time": "2024-04-17T12:49:16.357330Z"
    }
   },
   "id": "de9e1222",
   "execution_count": 95
  },
  {
   "cell_type": "code",
   "execution_count": 96,
   "id": "2ca2c9dd",
   "metadata": {
    "ExecuteTime": {
     "end_time": "2024-04-17T12:49:20.529833Z",
     "start_time": "2024-04-17T12:49:20.505846Z"
    }
   },
   "outputs": [],
   "source": [
    "genres_column = df['genres']"
   ]
  },
  {
   "cell_type": "code",
   "execution_count": 97,
   "id": "41370bd0674baa54",
   "metadata": {
    "collapsed": false,
    "ExecuteTime": {
     "end_time": "2024-04-17T12:49:20.559823Z",
     "start_time": "2024-04-17T12:49:20.537827Z"
    }
   },
   "outputs": [
    {
     "data": {
      "text/plain": "0        [Roman à clef, Satire, Children's literature, ...\n1        [Science Fiction, Novella, Speculative fiction...\n2        [Existentialism, Fiction, Absurdist fiction, N...\n4        [Hard science fiction, Science Fiction, Specul...\n5                                [War novel, Roman à clef]\n                               ...                        \n16549                                    [Science Fiction]\n16551                        [Thriller, Fiction, Suspense]\n16555                                  [Thriller, Fiction]\n16556                                      [Autobiography]\n16558              [Epistolary novel, Speculative fiction]\nName: genres, Length: 12841, dtype: object"
     },
     "execution_count": 97,
     "metadata": {},
     "output_type": "execute_result"
    }
   ],
   "source": [
    "genres_column.dropna()"
   ]
  },
  {
   "cell_type": "code",
   "execution_count": 98,
   "id": "9732f1c9",
   "metadata": {
    "ExecuteTime": {
     "end_time": "2024-04-17T12:49:25.242454Z",
     "start_time": "2024-04-17T12:49:25.215472Z"
    }
   },
   "outputs": [],
   "source": [
    "# Iterate through each row to extract and split the list of genres\n",
    "all_genres = []\n",
    "# Iterate through each element in the 'genres_column'\n",
    "for genres_item in genres_column:\n",
    "    # Check if the element is a string\n",
    "    if isinstance(genres_item, str):\n",
    "        # Split the string by comma and extend the list of all genres\n",
    "        all_genres.extend([genre.strip() for genre in genres_item.split(',')])\n",
    "    # Check if the element is a list\n",
    "    elif isinstance(genres_item, list):\n",
    "        # Extend the list of all genres directly\n",
    "        all_genres.extend(genres_item)\n",
    "\n",
    "# Count the occurrences of each unique genre\n",
    "genre_counts = Counter(all_genres)"
   ]
  },
  {
   "cell_type": "code",
   "execution_count": 99,
   "id": "129756bd",
   "metadata": {
    "ExecuteTime": {
     "end_time": "2024-04-17T12:49:25.257453Z",
     "start_time": "2024-04-17T12:49:25.246453Z"
    }
   },
   "outputs": [
    {
     "name": "stdout",
     "output_type": "stream",
     "text": [
      "Counter({'Fiction': 4747, 'Speculative fiction': 4314, 'Science Fiction': 2870, 'Novel': 2463, 'Fantasy': 2413, \"Children's literature\": 2122, 'Mystery': 1396, 'Young adult literature': 825, 'Suspense': 765, 'Crime Fiction': 753, 'Historical novel': 654, 'Thriller': 568, 'Horror': 511, 'Romance novel': 435, 'Historical fiction': 388, 'Detective fiction': 341, 'Adventure novel': 330, 'Non-fiction': 230, 'Alternate history': 226, 'Spy fiction': 190, 'Comedy': 145, 'Dystopia': 127, 'Autobiography': 124, 'Satire': 123, 'Gothic fiction': 112, 'Comic novel': 104, 'Biography': 102, 'Novella': 87, 'War novel': 87, 'Short story': 78, 'Autobiographical novel': 77, 'History': 73, 'Utopian and dystopian fiction': 67, 'Memoir': 67, 'High fantasy': 66, 'Humour': 62, 'Techno-thriller': 59, 'Apocalyptic and post-apocalyptic fiction': 56, 'Picture book': 49, 'Role-playing game': 48, 'Philosophy': 47, 'Steampunk': 47, 'Paranormal romance': 46, 'Bildungsroman': 42, 'Western': 41, 'Gamebook': 39, 'Reference': 38, 'Black comedy': 38, 'Urban fantasy': 37, 'Literary fiction': 36, 'Military science fiction': 33, 'Sociology': 31, 'Sword and sorcery': 31, 'Epistolary novel': 30, 'Whodunit': 30, 'Roman à clef': 29, 'Absurdist fiction': 29, 'Drama': 29, 'Poetry': 28, 'Psychological novel': 26, 'Hard science fiction': 25, 'Magic realism': 25, 'Hardboiled': 24, 'Western fiction': 23, 'Adventure': 23, 'Dark fantasy': 23, 'Science': 22, 'True crime': 22, 'Travel': 21, 'Psychology': 21, 'Time travel': 20, 'Picaresque novel': 18, 'Wuxia': 18, 'Historical fantasy': 18, 'Graphic novel': 17, 'Parallel novel': 17, 'Cyberpunk': 16, 'Business': 16, 'Religion': 16, 'Erotica': 16, 'Lost World': 16, 'Parody': 15, 'Chivalric romance': 15, 'Vampire fiction': 15, 'Scientific romance': 14, 'Economics': 13, 'Politics': 13, 'Künstlerroman': 12, 'Mathematics': 12, 'Biographical novel': 12, 'Space opera': 12, 'Cozy': 11, 'Travel literature': 11, 'Chick lit': 11, 'Inspirational': 10, 'Music': 10, 'Comic book': 10, 'Nature': 10, 'Science fantasy': 10, 'Regency romance': 10, 'Play': 9, 'Fairy tale': 9, 'Tragicomedy': 9, 'Existentialism': 8, 'Popular science': 8, 'Literary realism': 8, 'Self-help': 7, 'Comic science fiction': 7, 'Feminist science fiction': 7, 'Historical whodunnit': 7, 'Personal journal': 7, 'Postmodernism': 7, 'Gay novel': 7, 'Sports': 7, 'Transhumanism': 6, 'Post-holocaust': 6, 'Industrial novel': 6, 'Comics': 6, 'Fantasy of manners': 6, 'Historical romance': 6, 'Anthology': 6, 'Contemporary fantasy': 6, 'Spirituality': 5, 'Zombies in popular culture': 5, 'Planetary romance': 5, 'Treatise': 5, 'Comic fantasy': 5, 'Locked room mystery': 5, 'Soft science fiction': 5, 'Campus novel': 5, 'Social science fiction': 5, 'Essay': 5, 'Urban fiction': 5, 'Mashup': 5, 'Religious text': 4, 'Invasion literature': 4, 'Farce': 4, 'Sea story': 4, 'Anthropology': 4, 'Supernatural': 4, 'Conspiracy fiction': 4, 'Ghost story': 4, 'Social novel': 4, 'Zombie': 4, 'Coming of age': 4, 'Edisonade': 4, 'Subterranean fiction': 4, 'Heroic fantasy': 4, 'Encyclopedia': 4, 'Prose': 4, 'Catastrophic literature': 3, 'Non-fiction novel': 3, 'Ergodic literature': 3, 'Social sciences': 3, 'Social commentary': 3, 'Political philosophy': 3, 'Serial': 3, 'Dying Earth subgenre': 3, 'Polemic': 3, 'Photography': 3, 'Creative nonfiction': 3, 'Juvenile fantasy': 2, 'Albino bias': 2, 'Postcyberpunk': 2, 'Comedy of manners': 2, 'Morality play': 2, 'Prose poetry': 2, 'Literary criticism': 2, 'Naval adventure': 2, 'Transgender and transsexual fiction': 2, 'Sword and planet': 2, 'LGBT literature': 2, 'Foreign legion': 2, 'Robinsonade': 2, 'Romantic comedy': 2, 'Metaphysics': 2, 'Education': 2, 'Cookbook': 2, 'Military history': 2, 'Modernism': 2, 'Light novel': 2, 'Fairytale fantasy': 2, 'Biopunk': 2, 'Computer Science': 1, 'Social criticism': 1, 'Anti-war': 1, 'Human extinction': 1, 'First-person narrative': 1, 'New Weird': 1, 'Cabal': 1, 'Conspiracy': 1, 'School story': 1, 'English public-school stories': 1, \"Boys' school stories\": 1, 'Experimental literature': 1, 'Gay Themed': 1, 'Utopian fiction': 1, 'Future history': 1, 'Anti-nuclear': 1, 'Literary theory': 1, 'Elizabethan romance': 1, 'Pornography': 1, 'Georgian romance': 1, 'American Gothic Fiction': 1, 'Field guide': 1, 'Fable': 1, 'Bangsian fantasy': 1, 'Space western': 1, 'Fantastique': 1, 'Youth': 1, 'Medieval romance': 1, 'Bit Lit': 1, 'Collage': 1, 'Superhero fiction': 1, 'Marketing': 1, 'Colonial United States romance': 1, 'Low fantasy': 1, 'Police procedural': 1, 'Indian chick lit': 1, 'Autobiographical comics': 1, 'Fictional crossover': 1, 'Popular culture': 1, 'Neuroscience': 1, 'New York Times Best Seller list': 1, 'Epic Science Fiction and Fantasy': 1, 'Alien invasion': 1, 'Pastiche': 1})\n"
     ]
    }
   ],
   "source": [
    "print(genre_counts)"
   ]
  },
  {
   "cell_type": "code",
   "execution_count": 100,
   "id": "525c0214",
   "metadata": {
    "ExecuteTime": {
     "end_time": "2024-04-17T12:49:28.886859Z",
     "start_time": "2024-04-17T12:49:28.862873Z"
    }
   },
   "outputs": [
    {
     "name": "stdout",
     "output_type": "stream",
     "text": [
      "Fiction                4747\n",
      "Speculative fiction    4314\n",
      "Science Fiction        2870\n",
      "Novel                  2463\n",
      "Fantasy                2413\n",
      "                       ... \n",
      "Fable                     1\n",
      "Bangsian fantasy          1\n",
      "Space western             1\n",
      "Fantastique               1\n",
      "Pastiche                  1\n",
      "Name: count, Length: 227, dtype: int64\n"
     ]
    }
   ],
   "source": [
    "all_genres_series = pd.Series(all_genres)\n",
    "genre_counts = all_genres_series.value_counts()\n",
    "\n",
    "# Now you can use genre_counts as desired\n",
    "print(genre_counts)"
   ]
  },
  {
   "cell_type": "code",
   "execution_count": 101,
   "id": "2cc3d11d",
   "metadata": {
    "ExecuteTime": {
     "end_time": "2024-04-17T12:49:28.901851Z",
     "start_time": "2024-04-17T12:49:28.892856Z"
    }
   },
   "outputs": [],
   "source": [
    "valid_genres = [#'Speculative fiction',\n",
    "                'Science Fiction','Crime Fiction','Non-fiction','Children\\'s literature',\n",
    "                'Fantasy', 'Mystery', 'Suspense', 'Young adult literature']"
   ]
  },
  {
   "cell_type": "code",
   "execution_count": 102,
   "id": "8541e484",
   "metadata": {
    "ExecuteTime": {
     "end_time": "2024-04-17T12:49:39.649030Z",
     "start_time": "2024-04-17T12:49:32.009582Z"
    }
   },
   "outputs": [
    {
     "data": {
      "text/plain": "                      title             author  \\\n0               Animal Farm      George Orwell   \n1        A Clockwork Orange    Anthony Burgess   \n2      A Fire Upon the Deep       Vernor Vinge   \n3      A Fire Upon the Deep       Vernor Vinge   \n4      A Wizard of Earthsea  Ursula K. Le Guin   \n...                     ...                ...   \n11369                Heaven      V. C. Andrews   \n11370            Dark Angel      V. C. Andrews   \n11371     Gates of Paradise      V. C. Andrews   \n11372        The Third Lynx       Timothy Zahn   \n11373        Remote Control         Andy McNab   \n\n                                                 summary  \\\n0       Old Major, the old boar on the Manor Farm, ca...   \n1       Alex, a teenager living in near-future Englan...   \n2       The novel posits that space around the Milky ...   \n3       The novel posits that space around the Milky ...   \n4       Ged is a young boy on Gont, one of the larger...   \n...                                                  ...   \n11369   Heaven Leigh Casteel is a fourteen year old g...   \n11370   After the events of Heaven (the first book in...   \n11371   A novel about Annie Stonewall, the daughter o...   \n11372   The story starts with former government agent...   \n11373   The series follows the character of Nick Ston...   \n\n                        genre  \n0       Children's literature  \n1             Science Fiction  \n2             Science Fiction  \n3                     Fantasy  \n4       Children's literature  \n...                       ...  \n11369  Young adult literature  \n11370  Young adult literature  \n11371  Young adult literature  \n11372         Science Fiction  \n11373                Suspense  \n\n[11374 rows x 4 columns]",
      "text/html": "<div>\n<style scoped>\n    .dataframe tbody tr th:only-of-type {\n        vertical-align: middle;\n    }\n\n    .dataframe tbody tr th {\n        vertical-align: top;\n    }\n\n    .dataframe thead th {\n        text-align: right;\n    }\n</style>\n<table border=\"1\" class=\"dataframe\">\n  <thead>\n    <tr style=\"text-align: right;\">\n      <th></th>\n      <th>title</th>\n      <th>author</th>\n      <th>summary</th>\n      <th>genre</th>\n    </tr>\n  </thead>\n  <tbody>\n    <tr>\n      <th>0</th>\n      <td>Animal Farm</td>\n      <td>George Orwell</td>\n      <td>Old Major, the old boar on the Manor Farm, ca...</td>\n      <td>Children's literature</td>\n    </tr>\n    <tr>\n      <th>1</th>\n      <td>A Clockwork Orange</td>\n      <td>Anthony Burgess</td>\n      <td>Alex, a teenager living in near-future Englan...</td>\n      <td>Science Fiction</td>\n    </tr>\n    <tr>\n      <th>2</th>\n      <td>A Fire Upon the Deep</td>\n      <td>Vernor Vinge</td>\n      <td>The novel posits that space around the Milky ...</td>\n      <td>Science Fiction</td>\n    </tr>\n    <tr>\n      <th>3</th>\n      <td>A Fire Upon the Deep</td>\n      <td>Vernor Vinge</td>\n      <td>The novel posits that space around the Milky ...</td>\n      <td>Fantasy</td>\n    </tr>\n    <tr>\n      <th>4</th>\n      <td>A Wizard of Earthsea</td>\n      <td>Ursula K. Le Guin</td>\n      <td>Ged is a young boy on Gont, one of the larger...</td>\n      <td>Children's literature</td>\n    </tr>\n    <tr>\n      <th>...</th>\n      <td>...</td>\n      <td>...</td>\n      <td>...</td>\n      <td>...</td>\n    </tr>\n    <tr>\n      <th>11369</th>\n      <td>Heaven</td>\n      <td>V. C. Andrews</td>\n      <td>Heaven Leigh Casteel is a fourteen year old g...</td>\n      <td>Young adult literature</td>\n    </tr>\n    <tr>\n      <th>11370</th>\n      <td>Dark Angel</td>\n      <td>V. C. Andrews</td>\n      <td>After the events of Heaven (the first book in...</td>\n      <td>Young adult literature</td>\n    </tr>\n    <tr>\n      <th>11371</th>\n      <td>Gates of Paradise</td>\n      <td>V. C. Andrews</td>\n      <td>A novel about Annie Stonewall, the daughter o...</td>\n      <td>Young adult literature</td>\n    </tr>\n    <tr>\n      <th>11372</th>\n      <td>The Third Lynx</td>\n      <td>Timothy Zahn</td>\n      <td>The story starts with former government agent...</td>\n      <td>Science Fiction</td>\n    </tr>\n    <tr>\n      <th>11373</th>\n      <td>Remote Control</td>\n      <td>Andy McNab</td>\n      <td>The series follows the character of Nick Ston...</td>\n      <td>Suspense</td>\n    </tr>\n  </tbody>\n</table>\n<p>11374 rows × 4 columns</p>\n</div>"
     },
     "execution_count": 102,
     "metadata": {},
     "output_type": "execute_result"
    }
   ],
   "source": [
    "# Iterate through each row to extract and split the list of genres\n",
    "book_list = []\n",
    "# Iterate through each element in the 'genres_column'\n",
    "\n",
    "for i, row in df.iterrows():\n",
    "    if row[\"genres\"]:\n",
    "        for genre in valid_genres:\n",
    "            new_row={\n",
    "                \"title\": row[\"title\"],\n",
    "                \"author\": row[\"author\"],\n",
    "                \"summary\": row[\"summary\"]\n",
    "                }\n",
    "            genre_list=row[\"genres\"]\n",
    "            if genre in genre_list:\n",
    "                new_row[\"genre\"]=genre\n",
    "                book_list.append(new_row)\n",
    "book_df = pd.DataFrame(book_list)\n",
    "book_df  # need to drop the duplicates up here\n",
    "#     # Check if the element is a string\n",
    "#     if isinstance(genres_item, str):\n",
    "#         # Split the string by comma and extend the list of all genres\n",
    "#         all_genres.extend([genre.strip() for genre in genres_item.split(',')])\n",
    "#     # Check if the element is a list\n",
    "#     elif isinstance(genres_item, list):\n",
    "#         # Extend the list of all genres directly\n",
    "#         all_genres.extend(genres_item)"
   ]
  },
  {
   "cell_type": "code",
   "execution_count": 103,
   "id": "bc66af8b",
   "metadata": {
    "ExecuteTime": {
     "end_time": "2024-04-17T12:49:39.680014Z",
     "start_time": "2024-04-17T12:49:39.660028Z"
    }
   },
   "outputs": [
    {
     "data": {
      "text/plain": "genre\nScience Fiction           2870\nFantasy                   2413\nChildren's literature     2122\nMystery                   1396\nYoung adult literature     825\nSuspense                   765\nCrime Fiction              753\nNon-fiction                230\nName: count, dtype: int64"
     },
     "execution_count": 103,
     "metadata": {},
     "output_type": "execute_result"
    }
   ],
   "source": [
    "book_df[\"genre\"].value_counts()"
   ]
  },
  {
   "cell_type": "code",
   "outputs": [
    {
     "data": {
      "text/plain": "8025"
     },
     "execution_count": 104,
     "metadata": {},
     "output_type": "execute_result"
    }
   ],
   "source": [
    "book_df[\"title\"].nunique()"
   ],
   "metadata": {
    "ExecuteTime": {
     "end_time": "2024-04-17T12:49:39.712992Z",
     "start_time": "2024-04-17T12:49:39.689006Z"
    }
   },
   "id": "be18b8ef",
   "execution_count": 104
  },
  {
   "cell_type": "code",
   "execution_count": 105,
   "id": "ff7cbe48",
   "metadata": {
    "ExecuteTime": {
     "end_time": "2024-04-17T12:49:40.347174Z",
     "start_time": "2024-04-17T12:49:39.839457Z"
    }
   },
   "outputs": [
    {
     "data": {
      "text/plain": "<Figure size 1000x500 with 1 Axes>",
      "image/png": "[encoded data removed]"
     },
     "metadata": {},
     "output_type": "display_data"
    }
   ],
   "source": [
    "plt.figure(figsize=(10,5))\n",
    "sns.countplot(data=book_df, order=book_df[\"genre\"].value_counts().index, y='genre')\n",
    "plt.title(\"Counts per Genre\")\n",
    "plt.show()"
   ]
  },
  {
   "cell_type": "code",
   "execution_count": 106,
   "id": "edf87be9ba55e56",
   "metadata": {
    "collapsed": false,
    "ExecuteTime": {
     "end_time": "2024-04-17T12:49:46.625598Z",
     "start_time": "2024-04-17T12:49:46.602611Z"
    }
   },
   "outputs": [
    {
     "data": {
      "text/plain": "                               title             author  \\\n0                        Animal Farm      George Orwell   \n1                 A Clockwork Orange    Anthony Burgess   \n2               A Fire Upon the Deep       Vernor Vinge   \n3               A Fire Upon the Deep       Vernor Vinge   \n4               A Wizard of Earthsea  Ursula K. Le Guin   \n5               A Wizard of Earthsea  Ursula K. Le Guin   \n6    Blade Runner 3: Replicant Night        K. W. Jeter   \n7  Blade Runner 2: The Edge of Human        K. W. Jeter   \n8                   Children of Dune      Frank Herbert   \n9                   Children of Dune      Frank Herbert   \n\n                                             summary                  genre  \\\n0   Old Major, the old boar on the Manor Farm, ca...  Children's literature   \n1   Alex, a teenager living in near-future Englan...        Science Fiction   \n2   The novel posits that space around the Milky ...        Science Fiction   \n3   The novel posits that space around the Milky ...                Fantasy   \n4   Ged is a young boy on Gont, one of the larger...  Children's literature   \n5   Ged is a young boy on Gont, one of the larger...                Fantasy   \n6   Living on Mars, Deckard is acting as a consul...        Science Fiction   \n7   Beginning several months after the events in ...        Science Fiction   \n8   Nine years after Emperor Paul Muad'dib walked...        Science Fiction   \n9   Nine years after Emperor Paul Muad'dib walked...  Children's literature   \n\n   encoded_text  \n0             0  \n1             5  \n2             5  \n3             2  \n4             0  \n5             2  \n6             5  \n7             5  \n8             5  \n9             0  ",
      "text/html": "<div>\n<style scoped>\n    .dataframe tbody tr th:only-of-type {\n        vertical-align: middle;\n    }\n\n    .dataframe tbody tr th {\n        vertical-align: top;\n    }\n\n    .dataframe thead th {\n        text-align: right;\n    }\n</style>\n<table border=\"1\" class=\"dataframe\">\n  <thead>\n    <tr style=\"text-align: right;\">\n      <th></th>\n      <th>title</th>\n      <th>author</th>\n      <th>summary</th>\n      <th>genre</th>\n      <th>encoded_text</th>\n    </tr>\n  </thead>\n  <tbody>\n    <tr>\n      <th>0</th>\n      <td>Animal Farm</td>\n      <td>George Orwell</td>\n      <td>Old Major, the old boar on the Manor Farm, ca...</td>\n      <td>Children's literature</td>\n      <td>0</td>\n    </tr>\n    <tr>\n      <th>1</th>\n      <td>A Clockwork Orange</td>\n      <td>Anthony Burgess</td>\n      <td>Alex, a teenager living in near-future Englan...</td>\n      <td>Science Fiction</td>\n      <td>5</td>\n    </tr>\n    <tr>\n      <th>2</th>\n      <td>A Fire Upon the Deep</td>\n      <td>Vernor Vinge</td>\n      <td>The novel posits that space around the Milky ...</td>\n      <td>Science Fiction</td>\n      <td>5</td>\n    </tr>\n    <tr>\n      <th>3</th>\n      <td>A Fire Upon the Deep</td>\n      <td>Vernor Vinge</td>\n      <td>The novel posits that space around the Milky ...</td>\n      <td>Fantasy</td>\n      <td>2</td>\n    </tr>\n    <tr>\n      <th>4</th>\n      <td>A Wizard of Earthsea</td>\n      <td>Ursula K. Le Guin</td>\n      <td>Ged is a young boy on Gont, one of the larger...</td>\n      <td>Children's literature</td>\n      <td>0</td>\n    </tr>\n    <tr>\n      <th>5</th>\n      <td>A Wizard of Earthsea</td>\n      <td>Ursula K. Le Guin</td>\n      <td>Ged is a young boy on Gont, one of the larger...</td>\n      <td>Fantasy</td>\n      <td>2</td>\n    </tr>\n    <tr>\n      <th>6</th>\n      <td>Blade Runner 3: Replicant Night</td>\n      <td>K. W. Jeter</td>\n      <td>Living on Mars, Deckard is acting as a consul...</td>\n      <td>Science Fiction</td>\n      <td>5</td>\n    </tr>\n    <tr>\n      <th>7</th>\n      <td>Blade Runner 2: The Edge of Human</td>\n      <td>K. W. Jeter</td>\n      <td>Beginning several months after the events in ...</td>\n      <td>Science Fiction</td>\n      <td>5</td>\n    </tr>\n    <tr>\n      <th>8</th>\n      <td>Children of Dune</td>\n      <td>Frank Herbert</td>\n      <td>Nine years after Emperor Paul Muad'dib walked...</td>\n      <td>Science Fiction</td>\n      <td>5</td>\n    </tr>\n    <tr>\n      <th>9</th>\n      <td>Children of Dune</td>\n      <td>Frank Herbert</td>\n      <td>Nine years after Emperor Paul Muad'dib walked...</td>\n      <td>Children's literature</td>\n      <td>0</td>\n    </tr>\n  </tbody>\n</table>\n</div>"
     },
     "execution_count": 106,
     "metadata": {},
     "output_type": "execute_result"
    }
   ],
   "source": [
    "# encode categories - easy encoding\n",
    "book_df['encoded_text'] = book_df['genre'].astype('category').cat.codes\n",
    "\n",
    "book_df.head(10)"
   ]
  },
  {
   "cell_type": "code",
   "outputs": [],
   "source": [
    "# extract data - x_data\n",
    "data_summary = book_df['summary'].to_list()\n",
    "\n",
    "# data labels - y_data\n",
    "data_labels = book_df['encoded_text'].to_list()"
   ],
   "metadata": {
    "collapsed": false,
    "ExecuteTime": {
     "end_time": "2024-04-17T12:49:50.126888Z",
     "start_time": "2024-04-17T12:49:50.115894Z"
    }
   },
   "id": "b2857f75f9939d1b",
   "execution_count": 107
  },
  {
   "cell_type": "code",
   "outputs": [],
   "source": [
    "# train test split\n",
    "train_summaries, val_summaries, train_labels, val_labels = train_test_split(data_summary, data_labels, test_size=0.2, random_state=0)\n",
    "\n",
    "train_summaries, test_summaries, train_labels, test_labels = train_test_split(train_summaries, train_labels, test_size=0.01, random_state=0)"
   ],
   "metadata": {
    "collapsed": false
   },
   "id": "16b885b88775a879",
   "execution_count": null
  },
  {
   "cell_type": "code",
   "outputs": [],
   "source": [
    "# logistic regression \n",
    "from sklearn.linear_model import LogisticRegression\n",
    "\n",
    "benchmarks = {'NB' : [0.0, 0.0, 0.0],\n",
    "              'NB_tuned':  [0.0, 0.0, 0.0],\n",
    "              'SVC' :  [0.0, 0.0, 0.0],\n",
    "              'SVC_tuned':  [0.0, 0.0, 0.0],\n",
    "              'LR' :  [0.0, 0.0, 0.0],\n",
    "              'LR_tuned':  [0.0, 0.0, 0.0],\n",
    "                }\n",
    "t0 = time()\n",
    "LogReg_pipeline = Pipeline([\n",
    "                ('tfidf', TfidfVectorizer(stop_words='english', ngram_range=(1,1))),\n",
    "                ('clf', OneVsRestClassifier(LogisticRegression(solver='liblinear'), n_jobs=1)),\n",
    "            ])\n",
    "LogReg_pipeline.fit(train_summaries, train_labels)\n",
    "benchmarks['LR'][0] = (time() - t0)/60\n",
    "#print(\"Training complete! Saving trained model....\")\n",
    "filename = \"./LogReg_model.sav\"\n",
    "joblib.dump(LogReg_pipeline, filename)\n",
    "print(\"Training took: {:.3f}[seconds] to complete and has been saved as {}\".format(benchmarks['LR'][0],filename))\n",
    "print(\"####Before tuning:####\")\n",
    "print('Train Accuracy : %.3f'%LogReg_pipeline.score(train_summaries, train_labels))\n",
    "print('Test Accuracy : %.3f'%LogReg_pipeline.score(test_summaries, test_labels))"
   ],
   "metadata": {
    "collapsed": false
   },
   "id": "8b877696f1424564",
   "execution_count": null
  },
  {
   "cell_type": "code",
   "outputs": [
    {
     "name": "stdout",
     "output_type": "stream",
     "text": [
      "Training took: 0.188[seconds] to complete and has been saved as ./LogReg_model.sav\n",
      "####Before tuning:####\n",
      "Train Accuracy : 0.668\n",
      "Test Accuracy : 0.429\n"
     ]
    }
   ],
   "source": [],
   "metadata": {
    "collapsed": false,
    "ExecuteTime": {
     "end_time": "2024-04-17T12:53:30.975399Z",
     "start_time": "2024-04-17T12:53:14.185301Z"
    }
   },
   "id": "99cb4a21e75dafd0",
   "execution_count": 110
  },
  {
   "cell_type": "code",
   "outputs": [],
   "source": [
    "# BERT MODEL\n",
    "# define the model \n",
    "tokenizer = DistilBertTokenizer.from_pretrained('distilbert-base-uncased')\n",
    "\n",
    "# encode x inputs\n",
    "train_encodings = tokenizer(train_summaries, truncation=True, padding=True)\n",
    "\n",
    "# encode y ouputs\n",
    "val_encodings = tokenizer(val_summaries, truncation=True, padding=True)"
   ],
   "metadata": {
    "collapsed": false,
    "ExecuteTime": {
     "end_time": "2024-04-17T11:05:41.569222Z",
     "start_time": "2024-04-17T11:03:05.639786Z"
    }
   },
   "id": "dd8327a68b7c4f05",
   "execution_count": 20
  },
  {
   "cell_type": "code",
   "outputs": [],
   "source": [
    "# make the dataset \n",
    "train_dataset = tf.data.Dataset.from_tensor_slices((dict(train_encodings),train_labels))\n",
    "\n",
    "# make y dataset\n",
    "val_dataset = tf.data.Dataset.from_tensor_slices((dict(val_encodings), val_labels))"
   ],
   "metadata": {
    "collapsed": false,
    "ExecuteTime": {
     "end_time": "2024-04-17T11:09:44.163917Z",
     "start_time": "2024-04-17T11:09:12.841039Z"
    }
   },
   "id": "442de383f502dd31",
   "execution_count": 24
  },
  {
   "cell_type": "code",
   "outputs": [
    {
     "ename": "RuntimeError",
     "evalue": "Failed to import transformers.optimization_tf because of the following error (look up to see its traceback):\ncannot import name 'keras' from 'transformers.modeling_tf_utils' (C:\\ProgramData\\anaconda3\\envs\\mlenv\\lib\\site-packages\\transformers\\modeling_tf_utils.py)",
     "output_type": "error",
     "traceback": [
      "\u001B[1;31m---------------------------------------------------------------------------\u001B[0m",
      "\u001B[1;31mImportError\u001B[0m                               Traceback (most recent call last)",
      "File \u001B[1;32mC:\\ProgramData\\anaconda3\\envs\\mlenv\\lib\\site-packages\\transformers\\utils\\import_utils.py:1364\u001B[0m, in \u001B[0;36m_get_module\u001B[1;34m(self, module_name)\u001B[0m\n\u001B[0;32m   1332\u001B[0m JINJA_IMPORT_ERROR \u001B[38;5;241m=\u001B[39m \u001B[38;5;124m\"\"\"\u001B[39m\n\u001B[0;32m   1333\u001B[0m \u001B[38;5;132;01m{0}\u001B[39;00m\u001B[38;5;124m requires the jinja library but it was not found in your environment. You can install it with pip: `pip install\u001B[39m\n\u001B[0;32m   1334\u001B[0m \u001B[38;5;124mjinja2`. Please note that you may need to restart your runtime after installation.\u001B[39m\n\u001B[0;32m   1335\u001B[0m \u001B[38;5;124m\"\"\"\u001B[39m\n\u001B[0;32m   1337\u001B[0m BACKENDS_MAPPING \u001B[38;5;241m=\u001B[39m OrderedDict(\n\u001B[0;32m   1338\u001B[0m     [\n\u001B[0;32m   1339\u001B[0m         (\u001B[38;5;124m\"\u001B[39m\u001B[38;5;124mbs4\u001B[39m\u001B[38;5;124m\"\u001B[39m, (is_bs4_available, BS4_IMPORT_ERROR)),\n\u001B[0;32m   1340\u001B[0m         (\u001B[38;5;124m\"\u001B[39m\u001B[38;5;124mcv2\u001B[39m\u001B[38;5;124m\"\u001B[39m, (is_cv2_available, CV2_IMPORT_ERROR)),\n\u001B[0;32m   1341\u001B[0m         (\u001B[38;5;124m\"\u001B[39m\u001B[38;5;124mdatasets\u001B[39m\u001B[38;5;124m\"\u001B[39m, (is_datasets_available, DATASETS_IMPORT_ERROR)),\n\u001B[0;32m   1342\u001B[0m         (\u001B[38;5;124m\"\u001B[39m\u001B[38;5;124mdetectron2\u001B[39m\u001B[38;5;124m\"\u001B[39m, (is_detectron2_available, DETECTRON2_IMPORT_ERROR)),\n\u001B[0;32m   1343\u001B[0m         (\u001B[38;5;124m\"\u001B[39m\u001B[38;5;124messentia\u001B[39m\u001B[38;5;124m\"\u001B[39m, (is_essentia_available, ESSENTIA_IMPORT_ERROR)),\n\u001B[0;32m   1344\u001B[0m         (\u001B[38;5;124m\"\u001B[39m\u001B[38;5;124mfaiss\u001B[39m\u001B[38;5;124m\"\u001B[39m, (is_faiss_available, FAISS_IMPORT_ERROR)),\n\u001B[0;32m   1345\u001B[0m         (\u001B[38;5;124m\"\u001B[39m\u001B[38;5;124mflax\u001B[39m\u001B[38;5;124m\"\u001B[39m, (is_flax_available, FLAX_IMPORT_ERROR)),\n\u001B[0;32m   1346\u001B[0m         (\u001B[38;5;124m\"\u001B[39m\u001B[38;5;124mftfy\u001B[39m\u001B[38;5;124m\"\u001B[39m, (is_ftfy_available, FTFY_IMPORT_ERROR)),\n\u001B[0;32m   1347\u001B[0m         (\u001B[38;5;124m\"\u001B[39m\u001B[38;5;124mg2p_en\u001B[39m\u001B[38;5;124m\"\u001B[39m, (is_g2p_en_available, G2P_EN_IMPORT_ERROR)),\n\u001B[0;32m   1348\u001B[0m         (\u001B[38;5;124m\"\u001B[39m\u001B[38;5;124mpandas\u001B[39m\u001B[38;5;124m\"\u001B[39m, (is_pandas_available, PANDAS_IMPORT_ERROR)),\n\u001B[0;32m   1349\u001B[0m         (\u001B[38;5;124m\"\u001B[39m\u001B[38;5;124mphonemizer\u001B[39m\u001B[38;5;124m\"\u001B[39m, (is_phonemizer_available, PHONEMIZER_IMPORT_ERROR)),\n\u001B[0;32m   1350\u001B[0m         (\u001B[38;5;124m\"\u001B[39m\u001B[38;5;124mpretty_midi\u001B[39m\u001B[38;5;124m\"\u001B[39m, (is_pretty_midi_available, PRETTY_MIDI_IMPORT_ERROR)),\n\u001B[0;32m   1351\u001B[0m         (\u001B[38;5;124m\"\u001B[39m\u001B[38;5;124mlevenshtein\u001B[39m\u001B[38;5;124m\"\u001B[39m, (is_levenshtein_available, LEVENSHTEIN_IMPORT_ERROR)),\n\u001B[0;32m   1352\u001B[0m         (\u001B[38;5;124m\"\u001B[39m\u001B[38;5;124mlibrosa\u001B[39m\u001B[38;5;124m\"\u001B[39m, (is_librosa_available, LIBROSA_IMPORT_ERROR)),\n\u001B[0;32m   1353\u001B[0m         (\u001B[38;5;124m\"\u001B[39m\u001B[38;5;124mprotobuf\u001B[39m\u001B[38;5;124m\"\u001B[39m, (is_protobuf_available, PROTOBUF_IMPORT_ERROR)),\n\u001B[0;32m   1354\u001B[0m         (\u001B[38;5;124m\"\u001B[39m\u001B[38;5;124mpyctcdecode\u001B[39m\u001B[38;5;124m\"\u001B[39m, (is_pyctcdecode_available, PYCTCDECODE_IMPORT_ERROR)),\n\u001B[0;32m   1355\u001B[0m         (\u001B[38;5;124m\"\u001B[39m\u001B[38;5;124mpytesseract\u001B[39m\u001B[38;5;124m\"\u001B[39m, (is_pytesseract_available, PYTESSERACT_IMPORT_ERROR)),\n\u001B[0;32m   1356\u001B[0m         (\u001B[38;5;124m\"\u001B[39m\u001B[38;5;124msacremoses\u001B[39m\u001B[38;5;124m\"\u001B[39m, (is_sacremoses_available, SACREMOSES_IMPORT_ERROR)),\n\u001B[0;32m   1357\u001B[0m         (\u001B[38;5;124m\"\u001B[39m\u001B[38;5;124mpytorch_quantization\u001B[39m\u001B[38;5;124m\"\u001B[39m, (is_pytorch_quantization_available, PYTORCH_QUANTIZATION_IMPORT_ERROR)),\n\u001B[0;32m   1358\u001B[0m         (\u001B[38;5;124m\"\u001B[39m\u001B[38;5;124msentencepiece\u001B[39m\u001B[38;5;124m\"\u001B[39m, (is_sentencepiece_available, SENTENCEPIECE_IMPORT_ERROR)),\n\u001B[0;32m   1359\u001B[0m         (\u001B[38;5;124m\"\u001B[39m\u001B[38;5;124msklearn\u001B[39m\u001B[38;5;124m\"\u001B[39m, (is_sklearn_available, SKLEARN_IMPORT_ERROR)),\n\u001B[0;32m   1360\u001B[0m         (\u001B[38;5;124m\"\u001B[39m\u001B[38;5;124mspeech\u001B[39m\u001B[38;5;124m\"\u001B[39m, (is_speech_available, SPEECH_IMPORT_ERROR)),\n\u001B[0;32m   1361\u001B[0m         (\u001B[38;5;124m\"\u001B[39m\u001B[38;5;124mtensorflow_probability\u001B[39m\u001B[38;5;124m\"\u001B[39m, (is_tensorflow_probability_available, TENSORFLOW_PROBABILITY_IMPORT_ERROR)),\n\u001B[0;32m   1362\u001B[0m         (\u001B[38;5;124m\"\u001B[39m\u001B[38;5;124mtf\u001B[39m\u001B[38;5;124m\"\u001B[39m, (is_tf_available, TENSORFLOW_IMPORT_ERROR)),\n\u001B[0;32m   1363\u001B[0m         (\u001B[38;5;124m\"\u001B[39m\u001B[38;5;124mtensorflow_text\u001B[39m\u001B[38;5;124m\"\u001B[39m, (is_tensorflow_text_available, TENSORFLOW_TEXT_IMPORT_ERROR)),\n\u001B[1;32m-> 1364\u001B[0m         (\u001B[38;5;124m\"\u001B[39m\u001B[38;5;124mtimm\u001B[39m\u001B[38;5;124m\"\u001B[39m, (is_timm_available, TIMM_IMPORT_ERROR)),\n\u001B[0;32m   1365\u001B[0m         (\u001B[38;5;124m\"\u001B[39m\u001B[38;5;124mnatten\u001B[39m\u001B[38;5;124m\"\u001B[39m, (is_natten_available, NATTEN_IMPORT_ERROR)),\n\u001B[0;32m   1366\u001B[0m         (\u001B[38;5;124m\"\u001B[39m\u001B[38;5;124mnltk\u001B[39m\u001B[38;5;124m\"\u001B[39m, (is_nltk_available, NLTK_IMPORT_ERROR)),\n\u001B[0;32m   1367\u001B[0m         (\u001B[38;5;124m\"\u001B[39m\u001B[38;5;124mtokenizers\u001B[39m\u001B[38;5;124m\"\u001B[39m, (is_tokenizers_available, TOKENIZERS_IMPORT_ERROR)),\n\u001B[0;32m   1368\u001B[0m         (\u001B[38;5;124m\"\u001B[39m\u001B[38;5;124mtorch\u001B[39m\u001B[38;5;124m\"\u001B[39m, (is_torch_available, PYTORCH_IMPORT_ERROR)),\n\u001B[0;32m   1369\u001B[0m         (\u001B[38;5;124m\"\u001B[39m\u001B[38;5;124mtorchvision\u001B[39m\u001B[38;5;124m\"\u001B[39m, (is_torchvision_available, TORCHVISION_IMPORT_ERROR)),\n\u001B[0;32m   1370\u001B[0m         (\u001B[38;5;124m\"\u001B[39m\u001B[38;5;124mvision\u001B[39m\u001B[38;5;124m\"\u001B[39m, (is_vision_available, VISION_IMPORT_ERROR)),\n\u001B[0;32m   1371\u001B[0m         (\u001B[38;5;124m\"\u001B[39m\u001B[38;5;124mscipy\u001B[39m\u001B[38;5;124m\"\u001B[39m, (is_scipy_available, SCIPY_IMPORT_ERROR)),\n\u001B[0;32m   1372\u001B[0m         (\u001B[38;5;124m\"\u001B[39m\u001B[38;5;124maccelerate\u001B[39m\u001B[38;5;124m\"\u001B[39m, (is_accelerate_available, ACCELERATE_IMPORT_ERROR)),\n\u001B[0;32m   1373\u001B[0m         (\u001B[38;5;124m\"\u001B[39m\u001B[38;5;124moneccl_bind_pt\u001B[39m\u001B[38;5;124m\"\u001B[39m, (is_ccl_available, CCL_IMPORT_ERROR)),\n\u001B[0;32m   1374\u001B[0m         (\u001B[38;5;124m\"\u001B[39m\u001B[38;5;124mdecord\u001B[39m\u001B[38;5;124m\"\u001B[39m, (is_decord_available, DECORD_IMPORT_ERROR)),\n\u001B[0;32m   1375\u001B[0m         (\u001B[38;5;124m\"\u001B[39m\u001B[38;5;124mcython\u001B[39m\u001B[38;5;124m\"\u001B[39m, (is_cython_available, CYTHON_IMPORT_ERROR)),\n\u001B[0;32m   1376\u001B[0m         (\u001B[38;5;124m\"\u001B[39m\u001B[38;5;124mjieba\u001B[39m\u001B[38;5;124m\"\u001B[39m, (is_jieba_available, JIEBA_IMPORT_ERROR)),\n\u001B[0;32m   1377\u001B[0m         (\u001B[38;5;124m\"\u001B[39m\u001B[38;5;124mpeft\u001B[39m\u001B[38;5;124m\"\u001B[39m, (is_peft_available, PEFT_IMPORT_ERROR)),\n\u001B[0;32m   1378\u001B[0m         (\u001B[38;5;124m\"\u001B[39m\u001B[38;5;124mjinja\u001B[39m\u001B[38;5;124m\"\u001B[39m, (is_jinja_available, JINJA_IMPORT_ERROR)),\n\u001B[0;32m   1379\u001B[0m     ]\n\u001B[0;32m   1380\u001B[0m )\n\u001B[0;32m   1383\u001B[0m \u001B[38;5;28;01mdef\u001B[39;00m \u001B[38;5;21mrequires_backends\u001B[39m(obj, backends):\n",
      "File \u001B[1;32mC:\\ProgramData\\anaconda3\\envs\\mlenv\\lib\\importlib\\__init__.py:127\u001B[0m, in \u001B[0;36mimport_module\u001B[1;34m(name, package)\u001B[0m\n\u001B[0;32m    126\u001B[0m         level \u001B[38;5;241m+\u001B[39m\u001B[38;5;241m=\u001B[39m \u001B[38;5;241m1\u001B[39m\n\u001B[1;32m--> 127\u001B[0m \u001B[38;5;28;01mreturn\u001B[39;00m \u001B[43m_bootstrap\u001B[49m\u001B[38;5;241;43m.\u001B[39;49m\u001B[43m_gcd_import\u001B[49m\u001B[43m(\u001B[49m\u001B[43mname\u001B[49m\u001B[43m[\u001B[49m\u001B[43mlevel\u001B[49m\u001B[43m:\u001B[49m\u001B[43m]\u001B[49m\u001B[43m,\u001B[49m\u001B[43m \u001B[49m\u001B[43mpackage\u001B[49m\u001B[43m,\u001B[49m\u001B[43m \u001B[49m\u001B[43mlevel\u001B[49m\u001B[43m)\u001B[49m\n",
      "File \u001B[1;32m<frozen importlib._bootstrap>:1030\u001B[0m, in \u001B[0;36m_gcd_import\u001B[1;34m(name, package, level)\u001B[0m\n",
      "File \u001B[1;32m<frozen importlib._bootstrap>:1007\u001B[0m, in \u001B[0;36m_find_and_load\u001B[1;34m(name, import_)\u001B[0m\n",
      "File \u001B[1;32m<frozen importlib._bootstrap>:986\u001B[0m, in \u001B[0;36m_find_and_load_unlocked\u001B[1;34m(name, import_)\u001B[0m\n",
      "File \u001B[1;32m<frozen importlib._bootstrap>:680\u001B[0m, in \u001B[0;36m_load_unlocked\u001B[1;34m(spec)\u001B[0m\n",
      "File \u001B[1;32m<frozen importlib._bootstrap_external>:850\u001B[0m, in \u001B[0;36mexec_module\u001B[1;34m(self, module)\u001B[0m\n",
      "File \u001B[1;32m<frozen importlib._bootstrap>:228\u001B[0m, in \u001B[0;36m_call_with_frames_removed\u001B[1;34m(f, *args, **kwds)\u001B[0m\n",
      "File \u001B[1;32mC:\\ProgramData\\anaconda3\\envs\\mlenv\\lib\\site-packages\\transformers\\optimization_tf.py:29\u001B[0m\n\u001B[0;32m     27\u001B[0m     \u001B[38;5;28;01mfrom\u001B[39;00m \u001B[38;5;21;01mtensorflow\u001B[39;00m\u001B[38;5;21;01m.\u001B[39;00m\u001B[38;5;21;01mkeras\u001B[39;00m\u001B[38;5;21;01m.\u001B[39;00m\u001B[38;5;21;01moptimizers\u001B[39;00m\u001B[38;5;21;01m.\u001B[39;00m\u001B[38;5;21;01mlegacy\u001B[39;00m \u001B[38;5;28;01mimport\u001B[39;00m Adam\n\u001B[1;32m---> 29\u001B[0m \u001B[38;5;28;01mfrom\u001B[39;00m \u001B[38;5;21;01m.\u001B[39;00m\u001B[38;5;21;01mmodeling_tf_utils\u001B[39;00m \u001B[38;5;28;01mimport\u001B[39;00m keras\n\u001B[0;32m     32\u001B[0m \u001B[38;5;66;03m# This block because Keras loves randomly moving things to different places - this changed somewhere between 2.10 - 2.15\u001B[39;00m\n",
      "\u001B[1;31mImportError\u001B[0m: cannot import name 'keras' from 'transformers.modeling_tf_utils' (C:\\ProgramData\\anaconda3\\envs\\mlenv\\lib\\site-packages\\transformers\\modeling_tf_utils.py)",
      "\nThe above exception was the direct cause of the following exception:\n",
      "\u001B[1;31mRuntimeError\u001B[0m                              Traceback (most recent call last)",
      "Cell \u001B[1;32mIn[31], line 2\u001B[0m\n\u001B[0;32m      1\u001B[0m \u001B[38;5;66;03m#from transformers import TFDistilBertForSequenceClassification, TFTrainer, TFTrainingArguments\u001B[39;00m\n\u001B[1;32m----> 2\u001B[0m \u001B[38;5;28;01mfrom\u001B[39;00m \u001B[38;5;21;01mtransformers\u001B[39;00m \u001B[38;5;28;01mimport\u001B[39;00m TFDistilBertForSequenceClassification, AdamWeightDecay, create_optimizer\n\u001B[0;32m      4\u001B[0m model \u001B[38;5;241m=\u001B[39m TFDistilBertForSequenceClassification\u001B[38;5;241m.\u001B[39mfrom_pretrained(\u001B[38;5;124m'\u001B[39m\u001B[38;5;124mdistilbert-base-uncased\u001B[39m\u001B[38;5;124m'\u001B[39m, num_labels\u001B[38;5;241m=\u001B[39m\u001B[38;5;241m8\u001B[39m)\n\u001B[0;32m      6\u001B[0m num_train_epochs \u001B[38;5;241m=\u001B[39m \u001B[38;5;241m7\u001B[39m\n",
      "File \u001B[1;32m<frozen importlib._bootstrap>:1055\u001B[0m, in \u001B[0;36m_handle_fromlist\u001B[1;34m(module, fromlist, import_, recursive)\u001B[0m\n",
      "File \u001B[1;32mC:\\ProgramData\\anaconda3\\envs\\mlenv\\lib\\site-packages\\transformers\\utils\\import_utils.py:1354\u001B[0m, in \u001B[0;36m__getattr__\u001B[1;34m(self, name)\u001B[0m\n\u001B[0;32m   1327\u001B[0m PEFT_IMPORT_ERROR \u001B[38;5;241m=\u001B[39m \u001B[38;5;124m\"\"\"\u001B[39m\n\u001B[0;32m   1328\u001B[0m \u001B[38;5;132;01m{0}\u001B[39;00m\u001B[38;5;124m requires the peft library but it was not found in your environment. You can install it with pip: `pip install\u001B[39m\n\u001B[0;32m   1329\u001B[0m \u001B[38;5;124mpeft`. Please note that you may need to restart your runtime after installation.\u001B[39m\n\u001B[0;32m   1330\u001B[0m \u001B[38;5;124m\"\"\"\u001B[39m\n\u001B[0;32m   1332\u001B[0m JINJA_IMPORT_ERROR \u001B[38;5;241m=\u001B[39m \u001B[38;5;124m\"\"\"\u001B[39m\n\u001B[0;32m   1333\u001B[0m \u001B[38;5;132;01m{0}\u001B[39;00m\u001B[38;5;124m requires the jinja library but it was not found in your environment. You can install it with pip: `pip install\u001B[39m\n\u001B[0;32m   1334\u001B[0m \u001B[38;5;124mjinja2`. Please note that you may need to restart your runtime after installation.\u001B[39m\n\u001B[0;32m   1335\u001B[0m \u001B[38;5;124m\"\"\"\u001B[39m\n\u001B[0;32m   1337\u001B[0m BACKENDS_MAPPING \u001B[38;5;241m=\u001B[39m OrderedDict(\n\u001B[0;32m   1338\u001B[0m     [\n\u001B[0;32m   1339\u001B[0m         (\u001B[38;5;124m\"\u001B[39m\u001B[38;5;124mbs4\u001B[39m\u001B[38;5;124m\"\u001B[39m, (is_bs4_available, BS4_IMPORT_ERROR)),\n\u001B[0;32m   1340\u001B[0m         (\u001B[38;5;124m\"\u001B[39m\u001B[38;5;124mcv2\u001B[39m\u001B[38;5;124m\"\u001B[39m, (is_cv2_available, CV2_IMPORT_ERROR)),\n\u001B[0;32m   1341\u001B[0m         (\u001B[38;5;124m\"\u001B[39m\u001B[38;5;124mdatasets\u001B[39m\u001B[38;5;124m\"\u001B[39m, (is_datasets_available, DATASETS_IMPORT_ERROR)),\n\u001B[0;32m   1342\u001B[0m         (\u001B[38;5;124m\"\u001B[39m\u001B[38;5;124mdetectron2\u001B[39m\u001B[38;5;124m\"\u001B[39m, (is_detectron2_available, DETECTRON2_IMPORT_ERROR)),\n\u001B[0;32m   1343\u001B[0m         (\u001B[38;5;124m\"\u001B[39m\u001B[38;5;124messentia\u001B[39m\u001B[38;5;124m\"\u001B[39m, (is_essentia_available, ESSENTIA_IMPORT_ERROR)),\n\u001B[0;32m   1344\u001B[0m         (\u001B[38;5;124m\"\u001B[39m\u001B[38;5;124mfaiss\u001B[39m\u001B[38;5;124m\"\u001B[39m, (is_faiss_available, FAISS_IMPORT_ERROR)),\n\u001B[0;32m   1345\u001B[0m         (\u001B[38;5;124m\"\u001B[39m\u001B[38;5;124mflax\u001B[39m\u001B[38;5;124m\"\u001B[39m, (is_flax_available, FLAX_IMPORT_ERROR)),\n\u001B[0;32m   1346\u001B[0m         (\u001B[38;5;124m\"\u001B[39m\u001B[38;5;124mftfy\u001B[39m\u001B[38;5;124m\"\u001B[39m, (is_ftfy_available, FTFY_IMPORT_ERROR)),\n\u001B[0;32m   1347\u001B[0m         (\u001B[38;5;124m\"\u001B[39m\u001B[38;5;124mg2p_en\u001B[39m\u001B[38;5;124m\"\u001B[39m, (is_g2p_en_available, G2P_EN_IMPORT_ERROR)),\n\u001B[0;32m   1348\u001B[0m         (\u001B[38;5;124m\"\u001B[39m\u001B[38;5;124mpandas\u001B[39m\u001B[38;5;124m\"\u001B[39m, (is_pandas_available, PANDAS_IMPORT_ERROR)),\n\u001B[0;32m   1349\u001B[0m         (\u001B[38;5;124m\"\u001B[39m\u001B[38;5;124mphonemizer\u001B[39m\u001B[38;5;124m\"\u001B[39m, (is_phonemizer_available, PHONEMIZER_IMPORT_ERROR)),\n\u001B[0;32m   1350\u001B[0m         (\u001B[38;5;124m\"\u001B[39m\u001B[38;5;124mpretty_midi\u001B[39m\u001B[38;5;124m\"\u001B[39m, (is_pretty_midi_available, PRETTY_MIDI_IMPORT_ERROR)),\n\u001B[0;32m   1351\u001B[0m         (\u001B[38;5;124m\"\u001B[39m\u001B[38;5;124mlevenshtein\u001B[39m\u001B[38;5;124m\"\u001B[39m, (is_levenshtein_available, LEVENSHTEIN_IMPORT_ERROR)),\n\u001B[0;32m   1352\u001B[0m         (\u001B[38;5;124m\"\u001B[39m\u001B[38;5;124mlibrosa\u001B[39m\u001B[38;5;124m\"\u001B[39m, (is_librosa_available, LIBROSA_IMPORT_ERROR)),\n\u001B[0;32m   1353\u001B[0m         (\u001B[38;5;124m\"\u001B[39m\u001B[38;5;124mprotobuf\u001B[39m\u001B[38;5;124m\"\u001B[39m, (is_protobuf_available, PROTOBUF_IMPORT_ERROR)),\n\u001B[1;32m-> 1354\u001B[0m         (\u001B[38;5;124m\"\u001B[39m\u001B[38;5;124mpyctcdecode\u001B[39m\u001B[38;5;124m\"\u001B[39m, (is_pyctcdecode_available, PYCTCDECODE_IMPORT_ERROR)),\n\u001B[0;32m   1355\u001B[0m         (\u001B[38;5;124m\"\u001B[39m\u001B[38;5;124mpytesseract\u001B[39m\u001B[38;5;124m\"\u001B[39m, (is_pytesseract_available, PYTESSERACT_IMPORT_ERROR)),\n\u001B[0;32m   1356\u001B[0m         (\u001B[38;5;124m\"\u001B[39m\u001B[38;5;124msacremoses\u001B[39m\u001B[38;5;124m\"\u001B[39m, (is_sacremoses_available, SACREMOSES_IMPORT_ERROR)),\n\u001B[0;32m   1357\u001B[0m         (\u001B[38;5;124m\"\u001B[39m\u001B[38;5;124mpytorch_quantization\u001B[39m\u001B[38;5;124m\"\u001B[39m, (is_pytorch_quantization_available, PYTORCH_QUANTIZATION_IMPORT_ERROR)),\n\u001B[0;32m   1358\u001B[0m         (\u001B[38;5;124m\"\u001B[39m\u001B[38;5;124msentencepiece\u001B[39m\u001B[38;5;124m\"\u001B[39m, (is_sentencepiece_available, SENTENCEPIECE_IMPORT_ERROR)),\n\u001B[0;32m   1359\u001B[0m         (\u001B[38;5;124m\"\u001B[39m\u001B[38;5;124msklearn\u001B[39m\u001B[38;5;124m\"\u001B[39m, (is_sklearn_available, SKLEARN_IMPORT_ERROR)),\n\u001B[0;32m   1360\u001B[0m         (\u001B[38;5;124m\"\u001B[39m\u001B[38;5;124mspeech\u001B[39m\u001B[38;5;124m\"\u001B[39m, (is_speech_available, SPEECH_IMPORT_ERROR)),\n\u001B[0;32m   1361\u001B[0m         (\u001B[38;5;124m\"\u001B[39m\u001B[38;5;124mtensorflow_probability\u001B[39m\u001B[38;5;124m\"\u001B[39m, (is_tensorflow_probability_available, TENSORFLOW_PROBABILITY_IMPORT_ERROR)),\n\u001B[0;32m   1362\u001B[0m         (\u001B[38;5;124m\"\u001B[39m\u001B[38;5;124mtf\u001B[39m\u001B[38;5;124m\"\u001B[39m, (is_tf_available, TENSORFLOW_IMPORT_ERROR)),\n\u001B[0;32m   1363\u001B[0m         (\u001B[38;5;124m\"\u001B[39m\u001B[38;5;124mtensorflow_text\u001B[39m\u001B[38;5;124m\"\u001B[39m, (is_tensorflow_text_available, TENSORFLOW_TEXT_IMPORT_ERROR)),\n\u001B[0;32m   1364\u001B[0m         (\u001B[38;5;124m\"\u001B[39m\u001B[38;5;124mtimm\u001B[39m\u001B[38;5;124m\"\u001B[39m, (is_timm_available, TIMM_IMPORT_ERROR)),\n\u001B[0;32m   1365\u001B[0m         (\u001B[38;5;124m\"\u001B[39m\u001B[38;5;124mnatten\u001B[39m\u001B[38;5;124m\"\u001B[39m, (is_natten_available, NATTEN_IMPORT_ERROR)),\n\u001B[0;32m   1366\u001B[0m         (\u001B[38;5;124m\"\u001B[39m\u001B[38;5;124mnltk\u001B[39m\u001B[38;5;124m\"\u001B[39m, (is_nltk_available, NLTK_IMPORT_ERROR)),\n\u001B[0;32m   1367\u001B[0m         (\u001B[38;5;124m\"\u001B[39m\u001B[38;5;124mtokenizers\u001B[39m\u001B[38;5;124m\"\u001B[39m, (is_tokenizers_available, TOKENIZERS_IMPORT_ERROR)),\n\u001B[0;32m   1368\u001B[0m         (\u001B[38;5;124m\"\u001B[39m\u001B[38;5;124mtorch\u001B[39m\u001B[38;5;124m\"\u001B[39m, (is_torch_available, PYTORCH_IMPORT_ERROR)),\n\u001B[0;32m   1369\u001B[0m         (\u001B[38;5;124m\"\u001B[39m\u001B[38;5;124mtorchvision\u001B[39m\u001B[38;5;124m\"\u001B[39m, (is_torchvision_available, TORCHVISION_IMPORT_ERROR)),\n\u001B[0;32m   1370\u001B[0m         (\u001B[38;5;124m\"\u001B[39m\u001B[38;5;124mvision\u001B[39m\u001B[38;5;124m\"\u001B[39m, (is_vision_available, VISION_IMPORT_ERROR)),\n\u001B[0;32m   1371\u001B[0m         (\u001B[38;5;124m\"\u001B[39m\u001B[38;5;124mscipy\u001B[39m\u001B[38;5;124m\"\u001B[39m, (is_scipy_available, SCIPY_IMPORT_ERROR)),\n\u001B[0;32m   1372\u001B[0m         (\u001B[38;5;124m\"\u001B[39m\u001B[38;5;124maccelerate\u001B[39m\u001B[38;5;124m\"\u001B[39m, (is_accelerate_available, ACCELERATE_IMPORT_ERROR)),\n\u001B[0;32m   1373\u001B[0m         (\u001B[38;5;124m\"\u001B[39m\u001B[38;5;124moneccl_bind_pt\u001B[39m\u001B[38;5;124m\"\u001B[39m, (is_ccl_available, CCL_IMPORT_ERROR)),\n\u001B[0;32m   1374\u001B[0m         (\u001B[38;5;124m\"\u001B[39m\u001B[38;5;124mdecord\u001B[39m\u001B[38;5;124m\"\u001B[39m, (is_decord_available, DECORD_IMPORT_ERROR)),\n\u001B[0;32m   1375\u001B[0m         (\u001B[38;5;124m\"\u001B[39m\u001B[38;5;124mcython\u001B[39m\u001B[38;5;124m\"\u001B[39m, (is_cython_available, CYTHON_IMPORT_ERROR)),\n\u001B[0;32m   1376\u001B[0m         (\u001B[38;5;124m\"\u001B[39m\u001B[38;5;124mjieba\u001B[39m\u001B[38;5;124m\"\u001B[39m, (is_jieba_available, JIEBA_IMPORT_ERROR)),\n\u001B[0;32m   1377\u001B[0m         (\u001B[38;5;124m\"\u001B[39m\u001B[38;5;124mpeft\u001B[39m\u001B[38;5;124m\"\u001B[39m, (is_peft_available, PEFT_IMPORT_ERROR)),\n\u001B[0;32m   1378\u001B[0m         (\u001B[38;5;124m\"\u001B[39m\u001B[38;5;124mjinja\u001B[39m\u001B[38;5;124m\"\u001B[39m, (is_jinja_available, JINJA_IMPORT_ERROR)),\n\u001B[0;32m   1379\u001B[0m     ]\n\u001B[0;32m   1380\u001B[0m )\n\u001B[0;32m   1383\u001B[0m \u001B[38;5;28;01mdef\u001B[39;00m \u001B[38;5;21mrequires_backends\u001B[39m(obj, backends):\n\u001B[0;32m   1384\u001B[0m     \u001B[38;5;28;01mif\u001B[39;00m \u001B[38;5;129;01mnot\u001B[39;00m \u001B[38;5;28misinstance\u001B[39m(backends, (\u001B[38;5;28mlist\u001B[39m, \u001B[38;5;28mtuple\u001B[39m)):\n",
      "File \u001B[1;32mC:\\ProgramData\\anaconda3\\envs\\mlenv\\lib\\site-packages\\transformers\\utils\\import_utils.py:1366\u001B[0m, in \u001B[0;36m_get_module\u001B[1;34m(self, module_name)\u001B[0m\n\u001B[0;32m   1327\u001B[0m PEFT_IMPORT_ERROR \u001B[38;5;241m=\u001B[39m \u001B[38;5;124m\"\"\"\u001B[39m\n\u001B[0;32m   1328\u001B[0m \u001B[38;5;132;01m{0}\u001B[39;00m\u001B[38;5;124m requires the peft library but it was not found in your environment. You can install it with pip: `pip install\u001B[39m\n\u001B[0;32m   1329\u001B[0m \u001B[38;5;124mpeft`. Please note that you may need to restart your runtime after installation.\u001B[39m\n\u001B[0;32m   1330\u001B[0m \u001B[38;5;124m\"\"\"\u001B[39m\n\u001B[0;32m   1332\u001B[0m JINJA_IMPORT_ERROR \u001B[38;5;241m=\u001B[39m \u001B[38;5;124m\"\"\"\u001B[39m\n\u001B[0;32m   1333\u001B[0m \u001B[38;5;132;01m{0}\u001B[39;00m\u001B[38;5;124m requires the jinja library but it was not found in your environment. You can install it with pip: `pip install\u001B[39m\n\u001B[0;32m   1334\u001B[0m \u001B[38;5;124mjinja2`. Please note that you may need to restart your runtime after installation.\u001B[39m\n\u001B[0;32m   1335\u001B[0m \u001B[38;5;124m\"\"\"\u001B[39m\n\u001B[0;32m   1337\u001B[0m BACKENDS_MAPPING \u001B[38;5;241m=\u001B[39m OrderedDict(\n\u001B[0;32m   1338\u001B[0m     [\n\u001B[0;32m   1339\u001B[0m         (\u001B[38;5;124m\"\u001B[39m\u001B[38;5;124mbs4\u001B[39m\u001B[38;5;124m\"\u001B[39m, (is_bs4_available, BS4_IMPORT_ERROR)),\n\u001B[0;32m   1340\u001B[0m         (\u001B[38;5;124m\"\u001B[39m\u001B[38;5;124mcv2\u001B[39m\u001B[38;5;124m\"\u001B[39m, (is_cv2_available, CV2_IMPORT_ERROR)),\n\u001B[0;32m   1341\u001B[0m         (\u001B[38;5;124m\"\u001B[39m\u001B[38;5;124mdatasets\u001B[39m\u001B[38;5;124m\"\u001B[39m, (is_datasets_available, DATASETS_IMPORT_ERROR)),\n\u001B[0;32m   1342\u001B[0m         (\u001B[38;5;124m\"\u001B[39m\u001B[38;5;124mdetectron2\u001B[39m\u001B[38;5;124m\"\u001B[39m, (is_detectron2_available, DETECTRON2_IMPORT_ERROR)),\n\u001B[0;32m   1343\u001B[0m         (\u001B[38;5;124m\"\u001B[39m\u001B[38;5;124messentia\u001B[39m\u001B[38;5;124m\"\u001B[39m, (is_essentia_available, ESSENTIA_IMPORT_ERROR)),\n\u001B[0;32m   1344\u001B[0m         (\u001B[38;5;124m\"\u001B[39m\u001B[38;5;124mfaiss\u001B[39m\u001B[38;5;124m\"\u001B[39m, (is_faiss_available, FAISS_IMPORT_ERROR)),\n\u001B[0;32m   1345\u001B[0m         (\u001B[38;5;124m\"\u001B[39m\u001B[38;5;124mflax\u001B[39m\u001B[38;5;124m\"\u001B[39m, (is_flax_available, FLAX_IMPORT_ERROR)),\n\u001B[0;32m   1346\u001B[0m         (\u001B[38;5;124m\"\u001B[39m\u001B[38;5;124mftfy\u001B[39m\u001B[38;5;124m\"\u001B[39m, (is_ftfy_available, FTFY_IMPORT_ERROR)),\n\u001B[0;32m   1347\u001B[0m         (\u001B[38;5;124m\"\u001B[39m\u001B[38;5;124mg2p_en\u001B[39m\u001B[38;5;124m\"\u001B[39m, (is_g2p_en_available, G2P_EN_IMPORT_ERROR)),\n\u001B[0;32m   1348\u001B[0m         (\u001B[38;5;124m\"\u001B[39m\u001B[38;5;124mpandas\u001B[39m\u001B[38;5;124m\"\u001B[39m, (is_pandas_available, PANDAS_IMPORT_ERROR)),\n\u001B[0;32m   1349\u001B[0m         (\u001B[38;5;124m\"\u001B[39m\u001B[38;5;124mphonemizer\u001B[39m\u001B[38;5;124m\"\u001B[39m, (is_phonemizer_available, PHONEMIZER_IMPORT_ERROR)),\n\u001B[0;32m   1350\u001B[0m         (\u001B[38;5;124m\"\u001B[39m\u001B[38;5;124mpretty_midi\u001B[39m\u001B[38;5;124m\"\u001B[39m, (is_pretty_midi_available, PRETTY_MIDI_IMPORT_ERROR)),\n\u001B[0;32m   1351\u001B[0m         (\u001B[38;5;124m\"\u001B[39m\u001B[38;5;124mlevenshtein\u001B[39m\u001B[38;5;124m\"\u001B[39m, (is_levenshtein_available, LEVENSHTEIN_IMPORT_ERROR)),\n\u001B[0;32m   1352\u001B[0m         (\u001B[38;5;124m\"\u001B[39m\u001B[38;5;124mlibrosa\u001B[39m\u001B[38;5;124m\"\u001B[39m, (is_librosa_available, LIBROSA_IMPORT_ERROR)),\n\u001B[0;32m   1353\u001B[0m         (\u001B[38;5;124m\"\u001B[39m\u001B[38;5;124mprotobuf\u001B[39m\u001B[38;5;124m\"\u001B[39m, (is_protobuf_available, PROTOBUF_IMPORT_ERROR)),\n\u001B[0;32m   1354\u001B[0m         (\u001B[38;5;124m\"\u001B[39m\u001B[38;5;124mpyctcdecode\u001B[39m\u001B[38;5;124m\"\u001B[39m, (is_pyctcdecode_available, PYCTCDECODE_IMPORT_ERROR)),\n\u001B[0;32m   1355\u001B[0m         (\u001B[38;5;124m\"\u001B[39m\u001B[38;5;124mpytesseract\u001B[39m\u001B[38;5;124m\"\u001B[39m, (is_pytesseract_available, PYTESSERACT_IMPORT_ERROR)),\n\u001B[0;32m   1356\u001B[0m         (\u001B[38;5;124m\"\u001B[39m\u001B[38;5;124msacremoses\u001B[39m\u001B[38;5;124m\"\u001B[39m, (is_sacremoses_available, SACREMOSES_IMPORT_ERROR)),\n\u001B[0;32m   1357\u001B[0m         (\u001B[38;5;124m\"\u001B[39m\u001B[38;5;124mpytorch_quantization\u001B[39m\u001B[38;5;124m\"\u001B[39m, (is_pytorch_quantization_available, PYTORCH_QUANTIZATION_IMPORT_ERROR)),\n\u001B[0;32m   1358\u001B[0m         (\u001B[38;5;124m\"\u001B[39m\u001B[38;5;124msentencepiece\u001B[39m\u001B[38;5;124m\"\u001B[39m, (is_sentencepiece_available, SENTENCEPIECE_IMPORT_ERROR)),\n\u001B[0;32m   1359\u001B[0m         (\u001B[38;5;124m\"\u001B[39m\u001B[38;5;124msklearn\u001B[39m\u001B[38;5;124m\"\u001B[39m, (is_sklearn_available, SKLEARN_IMPORT_ERROR)),\n\u001B[0;32m   1360\u001B[0m         (\u001B[38;5;124m\"\u001B[39m\u001B[38;5;124mspeech\u001B[39m\u001B[38;5;124m\"\u001B[39m, (is_speech_available, SPEECH_IMPORT_ERROR)),\n\u001B[0;32m   1361\u001B[0m         (\u001B[38;5;124m\"\u001B[39m\u001B[38;5;124mtensorflow_probability\u001B[39m\u001B[38;5;124m\"\u001B[39m, (is_tensorflow_probability_available, TENSORFLOW_PROBABILITY_IMPORT_ERROR)),\n\u001B[0;32m   1362\u001B[0m         (\u001B[38;5;124m\"\u001B[39m\u001B[38;5;124mtf\u001B[39m\u001B[38;5;124m\"\u001B[39m, (is_tf_available, TENSORFLOW_IMPORT_ERROR)),\n\u001B[0;32m   1363\u001B[0m         (\u001B[38;5;124m\"\u001B[39m\u001B[38;5;124mtensorflow_text\u001B[39m\u001B[38;5;124m\"\u001B[39m, (is_tensorflow_text_available, TENSORFLOW_TEXT_IMPORT_ERROR)),\n\u001B[0;32m   1364\u001B[0m         (\u001B[38;5;124m\"\u001B[39m\u001B[38;5;124mtimm\u001B[39m\u001B[38;5;124m\"\u001B[39m, (is_timm_available, TIMM_IMPORT_ERROR)),\n\u001B[0;32m   1365\u001B[0m         (\u001B[38;5;124m\"\u001B[39m\u001B[38;5;124mnatten\u001B[39m\u001B[38;5;124m\"\u001B[39m, (is_natten_available, NATTEN_IMPORT_ERROR)),\n\u001B[1;32m-> 1366\u001B[0m         (\u001B[38;5;124m\"\u001B[39m\u001B[38;5;124mnltk\u001B[39m\u001B[38;5;124m\"\u001B[39m, (is_nltk_available, NLTK_IMPORT_ERROR)),\n\u001B[0;32m   1367\u001B[0m         (\u001B[38;5;124m\"\u001B[39m\u001B[38;5;124mtokenizers\u001B[39m\u001B[38;5;124m\"\u001B[39m, (is_tokenizers_available, TOKENIZERS_IMPORT_ERROR)),\n\u001B[0;32m   1368\u001B[0m         (\u001B[38;5;124m\"\u001B[39m\u001B[38;5;124mtorch\u001B[39m\u001B[38;5;124m\"\u001B[39m, (is_torch_available, PYTORCH_IMPORT_ERROR)),\n\u001B[0;32m   1369\u001B[0m         (\u001B[38;5;124m\"\u001B[39m\u001B[38;5;124mtorchvision\u001B[39m\u001B[38;5;124m\"\u001B[39m, (is_torchvision_available, TORCHVISION_IMPORT_ERROR)),\n\u001B[0;32m   1370\u001B[0m         (\u001B[38;5;124m\"\u001B[39m\u001B[38;5;124mvision\u001B[39m\u001B[38;5;124m\"\u001B[39m, (is_vision_available, VISION_IMPORT_ERROR)),\n\u001B[0;32m   1371\u001B[0m         (\u001B[38;5;124m\"\u001B[39m\u001B[38;5;124mscipy\u001B[39m\u001B[38;5;124m\"\u001B[39m, (is_scipy_available, SCIPY_IMPORT_ERROR)),\n\u001B[0;32m   1372\u001B[0m         (\u001B[38;5;124m\"\u001B[39m\u001B[38;5;124maccelerate\u001B[39m\u001B[38;5;124m\"\u001B[39m, (is_accelerate_available, ACCELERATE_IMPORT_ERROR)),\n\u001B[0;32m   1373\u001B[0m         (\u001B[38;5;124m\"\u001B[39m\u001B[38;5;124moneccl_bind_pt\u001B[39m\u001B[38;5;124m\"\u001B[39m, (is_ccl_available, CCL_IMPORT_ERROR)),\n\u001B[0;32m   1374\u001B[0m         (\u001B[38;5;124m\"\u001B[39m\u001B[38;5;124mdecord\u001B[39m\u001B[38;5;124m\"\u001B[39m, (is_decord_available, DECORD_IMPORT_ERROR)),\n\u001B[0;32m   1375\u001B[0m         (\u001B[38;5;124m\"\u001B[39m\u001B[38;5;124mcython\u001B[39m\u001B[38;5;124m\"\u001B[39m, (is_cython_available, CYTHON_IMPORT_ERROR)),\n\u001B[0;32m   1376\u001B[0m         (\u001B[38;5;124m\"\u001B[39m\u001B[38;5;124mjieba\u001B[39m\u001B[38;5;124m\"\u001B[39m, (is_jieba_available, JIEBA_IMPORT_ERROR)),\n\u001B[0;32m   1377\u001B[0m         (\u001B[38;5;124m\"\u001B[39m\u001B[38;5;124mpeft\u001B[39m\u001B[38;5;124m\"\u001B[39m, (is_peft_available, PEFT_IMPORT_ERROR)),\n\u001B[0;32m   1378\u001B[0m         (\u001B[38;5;124m\"\u001B[39m\u001B[38;5;124mjinja\u001B[39m\u001B[38;5;124m\"\u001B[39m, (is_jinja_available, JINJA_IMPORT_ERROR)),\n\u001B[0;32m   1379\u001B[0m     ]\n\u001B[0;32m   1380\u001B[0m )\n\u001B[0;32m   1383\u001B[0m \u001B[38;5;28;01mdef\u001B[39;00m \u001B[38;5;21mrequires_backends\u001B[39m(obj, backends):\n\u001B[0;32m   1384\u001B[0m     \u001B[38;5;28;01mif\u001B[39;00m \u001B[38;5;129;01mnot\u001B[39;00m \u001B[38;5;28misinstance\u001B[39m(backends, (\u001B[38;5;28mlist\u001B[39m, \u001B[38;5;28mtuple\u001B[39m)):\n",
      "\u001B[1;31mRuntimeError\u001B[0m: Failed to import transformers.optimization_tf because of the following error (look up to see its traceback):\ncannot import name 'keras' from 'transformers.modeling_tf_utils' (C:\\ProgramData\\anaconda3\\envs\\mlenv\\lib\\site-packages\\transformers\\modeling_tf_utils.py)"
     ]
    }
   ],
   "source": [
    "#from transformers import TFDistilBertForSequenceClassification, TFTrainer, TFTrainingArguments\n",
    "from transformers import TFDistilBertForSequenceClassification, AdamWeightDecay, create_optimizer\n",
    "\n",
    "model = TFDistilBertForSequenceClassification.from_pretrained('distilbert-base-uncased', num_labels=8)\n",
    "\n",
    "num_train_epochs = 7\n",
    "per_device_train_batch_size = 16  \n",
    "per_device_eval_batch_size = 64\n",
    "warmup_steps = 500\n",
    "weight_decay = 1e-5 \n",
    "\n",
    "# Total number of training steps\n",
    "total_steps = len(train_dataset) * num_train_epochs\n",
    "\n",
    "optimizer, lr_scheduler = create_optimizer(\n",
    "    init_lr=5e-5,\n",
    "    num_train_steps=total_steps,\n",
    "    num_warmup_steps=warmup_steps,\n",
    "    weight_decay_rate=weight_decay\n",
    ")\n",
    "\n",
    "loss_fn = tf.keras.losses.SparseCategoricalCrossentropy(from_logits=True)\n",
    "train_accuracy = tf.keras.metrics.SparseCategoricalAccuracy('accuracy')\n",
    "val_accuracy = tf.keras.metrics.SparseCategoricalAccuracy('accuracy')\n",
    "\n",
    "# Define the training loop\n",
    "@tf.function\n",
    "def train_step(batch):\n",
    "    with tf.GradientTape() as tape:\n",
    "        logits = model(batch['input_ids'], attention_mask=batch['attention_mask'], training=True)[0]\n",
    "        loss = loss_fn(batch['labels'], logits)\n",
    "    grads = tape.gradient(loss, model.trainable_variables)\n",
    "    optimizer.apply_gradients(zip(grads, model.trainable_variables))\n",
    "    train_accuracy.update_state(batch['labels'], logits)\n",
    "    return loss\n",
    "\n",
    "# Execute training\n",
    "for epoch in range(num_train_epochs):\n",
    "    print(f'Start of epoch {epoch}')\n",
    "    for batch in train_dataset:\n",
    "        loss = train_step(batch)\n",
    "        print(f'Step loss: {loss.numpy()}')\n",
    "\n",
    "    # Validation loop can be added here similarly using model and val_dataset\n",
    "    # Reset metrics at the end of each epoch\n",
    "    train_accuracy.reset_states()\n"
   ],
   "metadata": {
    "collapsed": false,
    "ExecuteTime": {
     "end_time": "2024-04-17T11:32:02.729484Z",
     "start_time": "2024-04-17T11:32:01.192117Z"
    }
   },
   "id": "600dae8df786ad27",
   "execution_count": 31
  },
  {
   "cell_type": "code",
   "outputs": [
    {
     "name": "stdout",
     "output_type": "stream",
     "text": [
      "4.37.2\n"
     ]
    }
   ],
   "source": [
    "print(transformers.__version__)"
   ],
   "metadata": {
    "collapsed": false,
    "ExecuteTime": {
     "end_time": "2024-04-17T11:24:29.326612Z",
     "start_time": "2024-04-17T11:24:29.068286Z"
    }
   },
   "id": "57ac4401852c78ea",
   "execution_count": 29
  },
  {
   "cell_type": "code",
   "outputs": [],
   "source": [
    "trainer.train()"
   ],
   "metadata": {
    "collapsed": false
   },
   "id": "48fa8ad47b9a4be3",
   "execution_count": 0
  },
  {
   "cell_type": "code",
   "outputs": [],
   "source": [
    "trainer.evaluate()"
   ],
   "metadata": {
    "collapsed": false
   },
   "id": "a5a52fbffb2c9ed0",
   "execution_count": null
  },
  {
   "cell_type": "code",
   "outputs": [
    {
     "ename": "ImportError",
     "evalue": "cannot import name 'TFTrainer' from 'transformers' (C:\\ProgramData\\anaconda3\\envs\\mlenv\\lib\\site-packages\\transformers\\__init__.py)",
     "output_type": "error",
     "traceback": [
      "\u001B[1;31m---------------------------------------------------------------------------\u001B[0m",
      "\u001B[1;31mImportError\u001B[0m                               Traceback (most recent call last)",
      "Cell \u001B[1;32mIn[26], line 1\u001B[0m\n\u001B[1;32m----> 1\u001B[0m \u001B[38;5;28;01mfrom\u001B[39;00m \u001B[38;5;21;01mtransformers\u001B[39;00m \u001B[38;5;28;01mimport\u001B[39;00m TFDistilBertForSequenceClassification, TFTrainer, TFTrainingArguments\n",
      "\u001B[1;31mImportError\u001B[0m: cannot import name 'TFTrainer' from 'transformers' (C:\\ProgramData\\anaconda3\\envs\\mlenv\\lib\\site-packages\\transformers\\__init__.py)"
     ]
    }
   ],
   "source": [
    "# save the model \n"
   ],
   "metadata": {
    "collapsed": false,
    "ExecuteTime": {
     "end_time": "2024-04-17T11:12:45.409954Z",
     "start_time": "2024-04-17T11:12:45.260284Z"
    }
   },
   "id": "9b50764e73428833",
   "execution_count": 26
  },
  {
   "cell_type": "code",
   "outputs": [
    {
     "name": "stdout",
     "output_type": "stream",
     "text": [
      " Old Major, the old boar on the Manor Farm, calls the animals on the farm for a meeting, where he compares the humans to parasites and teaches the animals a revolutionary song, 'Beasts of England'. When Major dies, two young pigs, Snowball and Napoleon, assume command and turn his dream into a philosophy. The animals revolt and drive the drunken and irresponsible Mr Jones from the farm, renaming it \"Animal Farm\". They adopt Seven Commandments of Animal-ism, the most important of which is, \"All animals are equal\". Snowball attempts to teach the animals reading and writing; food is plentiful, and the farm runs smoothly. The pigs elevate themselves to positions of leadership and set aside special food items, ostensibly for their personal health. Napoleon takes the pups from the farm dogs and trains them privately. Napoleon and Snowball struggle for leadership. When Snowball announces his plans to build a windmill, Napoleon has his dogs chase Snowball away and declares himself leader. Napoleon enacts changes to the governance structure of the farm, replacing meetings with a committee of pigs, who will run the farm. Using a young pig named Squealer as a \"mouthpiece\", Napoleon claims credit for the windmill idea. The animals work harder with the promise of easier lives with the windmill. After a violent storm, the animals find the windmill annihilated. Napoleon and Squealer convince the animals that Snowball destroyed it, although the scorn of the neighbouring farmers suggests that its walls were too thin. Once Snowball becomes a scapegoat, Napoleon begins purging the farm with his dogs, killing animals he accuses of consorting with his old rival. He and the pigs abuse their power, imposing more control while reserving privileges for themselves and rewriting history, villainising Snowball and glorifying Napoleon. Squealer justifies every statement Napoleon makes, even the pigs' alteration of the Seven Commandments of Animalism to benefit themselves. 'Beasts of England' is replaced by an anthem glorifying Napoleon, who appears to be adopting the lifestyle of a man. The animals remain convinced that they are better off than they were when under Mr Jones. Squealer abuses the animals' poor memories and invents numbers to show their improvement. Mr Frederick, one of the neighbouring farmers, attacks the farm, using blasting powder to blow up the restored windmill. Though the animals win the battle, they do so at great cost, as many, including Boxer the workhorse, are wounded. Despite his injuries, Boxer continues working harder and harder, until he collapses while working on the windmill. Napoleon sends for a van to take Boxer to the veterinary surgeon's, explaining that better care can be given there. Benjamin, the cynical donkey, who \"could read as well as any pig\", notices that the van belongs to a knacker, and attempts to mount a rescue; but the animals' attempts are futile. Squealer reports that the van was purchased by the hospital and the writing from the previous owner had not been repainted. He recounts a tale of Boxer's death in the hands of the best medical care. Years pass, and the pigs learn to walk upright, carry whips and wear clothes. The Seven Commandments are reduced to a single phrase: \"All animals are equal, but some animals are more equal than others\". Napoleon holds a dinner party for the pigs and the humans of the area, who congratulate Napoleon on having the hardest-working but least fed animals in the country. Napoleon announces an alliance with the humans, against the labouring classes of both \"worlds\". He abolishes practices and traditions related to the Revolution, and changes the name of the farm to \"The Manor Farm\". The animals, overhearing the conversation, notice that the faces of the pigs have begun changing. During a poker match, an argument breaks out between Napoleon and Mr Pilkington, and the animals realise that the faces of the pigs look like the faces of humans, and no one can tell the difference between them. The pigs Snowball, Napoleon, and Squealer adapt Old Major's ideas into an actual philosophy, which they formally name Animalism. Soon after, Napoleon and Squealer indulge in the vices of humans (drinking alcohol, sleeping in beds, trading). Squealer is employed to alter the Seven Commandments to account for this humanisation, an allusion to the Soviet government's revising of history in order to exercise control of the people's beliefs about themselves and their society. The original commandments are: # Whatever goes upon two legs is an enemy. # Whatever goes upon four legs, or has wings, is a friend. # No animal shall wear clothes. # No animal shall sleep in a bed. # No animal shall drink alcohol. # No animal shall kill any other animal. # All animals are equal. Later, Napoleon and his pigs secretly revise some commandments to clear them of accusations of law-breaking (such as \"No animal shall drink alcohol\" having \"to excess\" appended to it and \"No animal shall sleep in a bed\" with \"with sheets\" added to it). The changed commandments are as follows, with the changes bolded: * 4 No animal shall sleep in a bed with sheets. * 5 No animal shall drink alcohol to excess. * 6 No animal shall kill any other animal without cause. Eventually these are replaced with the maxims, \"All animals are equal, but some animals are more equal than others\", and \"Four legs good, two legs better!\" as the pigs become more human. This is an ironic twist to the original purpose of the Seven Commandments, which were supposed to keep order within Animal Farm by uniting the animals together against the humans, and prevent animals from following the humans' evil habits. Through the revision of the commandments, Orwell demonstrates how simply political dogma can be turned into malleable propaganda. Children's literature\n"
     ]
    }
   ],
   "source": [
    "from sklearn.feature_extraction.text import TfidfVectorizer\n",
    "from sklearn.preprocessing import MultiLabelBinarizer\n",
    "from scipy.sparse import hstack\n",
    "\n",
    "tfidf = TfidfVectorizer(stop_words='english')\n",
    "book_df['summary'] = book_df['summary'].fillna('')\n",
    "book_df['summary_genre'] = book_df['summary'] + ' ' + book_df['genre']  # attaching the genre to the summary\n",
    "print(book_df.iloc[0,4])"
   ],
   "metadata": {
    "collapsed": false,
    "ExecuteTime": {
     "end_time": "2024-04-17T04:25:50.513771Z",
     "start_time": "2024-04-17T04:25:49.395885Z"
    }
   },
   "id": "68c0538d591a8e23",
   "execution_count": 26
  },
  {
   "cell_type": "code",
   "outputs": [],
   "source": [
    "tfidf_matrix = tfidf.fit_transform(book_df['summary_genre'])"
   ],
   "metadata": {
    "collapsed": false,
    "ExecuteTime": {
     "end_time": "2024-04-17T04:26:15.926458Z",
     "start_time": "2024-04-17T04:26:10.977770Z"
    }
   },
   "id": "1747337f996c5ed7",
   "execution_count": 28
  },
  {
   "cell_type": "code",
   "outputs": [],
   "source": [
    "mlb = MultiLabelBinarizer()\n",
    "\n",
    "genre_matrix = mlb.fit_transform(book_df['genre']) # binarized genre matrix"
   ],
   "metadata": {
    "collapsed": false,
    "ExecuteTime": {
     "end_time": "2024-04-17T04:26:17.719822Z",
     "start_time": "2024-04-17T04:26:17.645632Z"
    }
   },
   "id": "1cfc2905146e9ef6",
   "execution_count": 29
  },
  {
   "cell_type": "code",
   "outputs": [],
   "source": [
    "tfidf_genre_matrix = hstack((tfidf_matrix, genre_matrix))  # append so we can get a nice matrix"
   ],
   "metadata": {
    "collapsed": false,
    "ExecuteTime": {
     "end_time": "2024-04-17T04:26:20.207456Z",
     "start_time": "2024-04-17T04:26:20.147889Z"
    }
   },
   "id": "1313517b7a6c976c",
   "execution_count": 30
  },
  {
   "cell_type": "code",
   "outputs": [
    {
     "name": "stdout",
     "output_type": "stream",
     "text": [
      "<class 'numpy.ndarray'>\n"
     ]
    }
   ],
   "source": [
    "from sklearn.metrics.pairwise import linear_kernel\n",
    "cosine_similarity = linear_kernel(tfidf_genre_matrix)\n",
    "print(type(cosine_similarity))"
   ],
   "metadata": {
    "ExecuteTime": {
     "end_time": "2024-04-17T04:29:39.918461Z",
     "start_time": "2024-04-17T04:29:31.409562Z"
    }
   },
   "id": "1ae30616",
   "execution_count": 33
  },
  {
   "cell_type": "code",
   "execution_count": 34,
   "id": "c87d3c365b85426a",
   "metadata": {
    "collapsed": false,
    "ExecuteTime": {
     "end_time": "2024-04-17T04:34:42.142006Z",
     "start_time": "2024-04-17T04:34:42.110525Z"
    }
   },
   "outputs": [
    {
     "name": "stdout",
     "output_type": "stream",
     "text": [
      "title\n",
      "Animal Farm                 0\n",
      "A Clockwork Orange          1\n",
      "A Fire Upon the Deep        2\n",
      "A Fire Upon the Deep        3\n",
      "A Wizard of Earthsea        4\n",
      "                        ...  \n",
      "Heaven                  11369\n",
      "Dark Angel              11370\n",
      "Gates of Paradise       11371\n",
      "The Third Lynx          11372\n",
      "Remote Control          11373\n",
      "Length: 11374, dtype: int64\n"
     ]
    }
   ],
   "source": [
    "indices = pd.Series(book_df.index, index=book_df['title']).drop_duplicates()  # cant drop the duplicates here\n",
    "print(indices)"
   ]
  },
  {
   "cell_type": "code",
   "outputs": [],
   "source": [
    "def recommend(title, similarity_matrix, topk=10):\n",
    "    book_index: int = indices[title]  # will return an int\n",
    "    # enumerate here adds index of book being referenced by similarity score, \n",
    "    # allows reverse lookup once sorted by similarity score\n",
    "    similarity_scores = list(enumerate(similarity_matrix[book_index]))  # enumerate of ?\n",
    "    similarity_scores = sorted(similarity_scores, key=lambda x:x[1], reverse=True)\n",
    "\n",
    "    top_scores = similarity_scores[1:topk+1] # index 0 should be original \n",
    "    recommendation_indices = [i[0] for i in top_scores]\n",
    "    return book_df['title'].iloc[recommendation_indices]"
   ],
   "metadata": {
    "ExecuteTime": {
     "end_time": "2024-04-17T04:34:45.283683Z",
     "start_time": "2024-04-17T04:34:45.264476Z"
    }
   },
   "id": "00be2480",
   "execution_count": 35
  },
  {
   "cell_type": "code",
   "execution_count": 36,
   "id": "cd7cd6e0",
   "metadata": {
    "ExecuteTime": {
     "end_time": "2024-04-17T04:34:49.011514Z",
     "start_time": "2024-04-17T04:34:48.911931Z"
    }
   },
   "outputs": [
    {
     "data": {
      "text/plain": "                                         title             author  \\\n5383                    Freddy Goes to Florida   Walter R. Brooks   \n2885                          Arctic Adventure      Willard Price   \n5441             Freddy Goes to the North Pole   Walter R. Brooks   \n4949   The True Story of the Three Little Pigs         Lane Smith   \n6574              The Animals of Farthing Wood         Colin Dann   \n4304                                 Punk Farm  Jarrett Krosoczka   \n10595                    Freddy the Politician   Walter R. Brooks   \n5473                               Rabbit Hill      Robert Lawson   \n10704                                 Zoobreak      Gordon Korman   \n1578               George's Marvelous Medicine         Roald Dahl   \n\n                                                 summary  \\\n5383    Freddy was an intelligent pig that lived on t...   \n2885    Hal and Roger Hunt go to Greenland to capture...   \n5441    In the beginning, Freddy had the idea to esta...   \n4949    The book tries to show that the Wolf from The...   \n6574    The humans have dug up the heath that surroun...   \n4304    Krosoczka's book tells the story of five farm...   \n10595   To encourage farmer Bean to go on his vacatio...   \n5473    The story takes place in a place called Rabbi...   \n10704   Savannah has lost her pet monkey named Cleopa...   \n1578    George is an 8 year-old boy who lives in a fa...   \n\n                       genre  \\\n5383   Children's literature   \n2885   Children's literature   \n5441   Children's literature   \n4949   Children's literature   \n6574   Children's literature   \n4304   Children's literature   \n10595  Children's literature   \n5473   Children's literature   \n10704  Children's literature   \n1578   Children's literature   \n\n                                           summary_genre  \n5383    Freddy was an intelligent pig that lived on t...  \n2885    Hal and Roger Hunt go to Greenland to capture...  \n5441    In the beginning, Freddy had the idea to esta...  \n4949    The book tries to show that the Wolf from The...  \n6574    The humans have dug up the heath that surroun...  \n4304    Krosoczka's book tells the story of five farm...  \n10595   To encourage farmer Bean to go on his vacatio...  \n5473    The story takes place in a place called Rabbi...  \n10704   Savannah has lost her pet monkey named Cleopa...  \n1578    George is an 8 year-old boy who lives in a fa...  ",
      "text/html": "<div>\n<style scoped>\n    .dataframe tbody tr th:only-of-type {\n        vertical-align: middle;\n    }\n\n    .dataframe tbody tr th {\n        vertical-align: top;\n    }\n\n    .dataframe thead th {\n        text-align: right;\n    }\n</style>\n<table border=\"1\" class=\"dataframe\">\n  <thead>\n    <tr style=\"text-align: right;\">\n      <th></th>\n      <th>title</th>\n      <th>author</th>\n      <th>summary</th>\n      <th>genre</th>\n      <th>summary_genre</th>\n    </tr>\n  </thead>\n  <tbody>\n    <tr>\n      <th>5383</th>\n      <td>Freddy Goes to Florida</td>\n      <td>Walter R. Brooks</td>\n      <td>Freddy was an intelligent pig that lived on t...</td>\n      <td>Children's literature</td>\n      <td>Freddy was an intelligent pig that lived on t...</td>\n    </tr>\n    <tr>\n      <th>2885</th>\n      <td>Arctic Adventure</td>\n      <td>Willard Price</td>\n      <td>Hal and Roger Hunt go to Greenland to capture...</td>\n      <td>Children's literature</td>\n      <td>Hal and Roger Hunt go to Greenland to capture...</td>\n    </tr>\n    <tr>\n      <th>5441</th>\n      <td>Freddy Goes to the North Pole</td>\n      <td>Walter R. Brooks</td>\n      <td>In the beginning, Freddy had the idea to esta...</td>\n      <td>Children's literature</td>\n      <td>In the beginning, Freddy had the idea to esta...</td>\n    </tr>\n    <tr>\n      <th>4949</th>\n      <td>The True Story of the Three Little Pigs</td>\n      <td>Lane Smith</td>\n      <td>The book tries to show that the Wolf from The...</td>\n      <td>Children's literature</td>\n      <td>The book tries to show that the Wolf from The...</td>\n    </tr>\n    <tr>\n      <th>6574</th>\n      <td>The Animals of Farthing Wood</td>\n      <td>Colin Dann</td>\n      <td>The humans have dug up the heath that surroun...</td>\n      <td>Children's literature</td>\n      <td>The humans have dug up the heath that surroun...</td>\n    </tr>\n    <tr>\n      <th>4304</th>\n      <td>Punk Farm</td>\n      <td>Jarrett Krosoczka</td>\n      <td>Krosoczka's book tells the story of five farm...</td>\n      <td>Children's literature</td>\n      <td>Krosoczka's book tells the story of five farm...</td>\n    </tr>\n    <tr>\n      <th>10595</th>\n      <td>Freddy the Politician</td>\n      <td>Walter R. Brooks</td>\n      <td>To encourage farmer Bean to go on his vacatio...</td>\n      <td>Children's literature</td>\n      <td>To encourage farmer Bean to go on his vacatio...</td>\n    </tr>\n    <tr>\n      <th>5473</th>\n      <td>Rabbit Hill</td>\n      <td>Robert Lawson</td>\n      <td>The story takes place in a place called Rabbi...</td>\n      <td>Children's literature</td>\n      <td>The story takes place in a place called Rabbi...</td>\n    </tr>\n    <tr>\n      <th>10704</th>\n      <td>Zoobreak</td>\n      <td>Gordon Korman</td>\n      <td>Savannah has lost her pet monkey named Cleopa...</td>\n      <td>Children's literature</td>\n      <td>Savannah has lost her pet monkey named Cleopa...</td>\n    </tr>\n    <tr>\n      <th>1578</th>\n      <td>George's Marvelous Medicine</td>\n      <td>Roald Dahl</td>\n      <td>George is an 8 year-old boy who lives in a fa...</td>\n      <td>Children's literature</td>\n      <td>George is an 8 year-old boy who lives in a fa...</td>\n    </tr>\n  </tbody>\n</table>\n</div>"
     },
     "execution_count": 36,
     "metadata": {},
     "output_type": "execute_result"
    }
   ],
   "source": [
    "recs = recommend('Animal Farm', cosine_similarity)\n",
    "book_df.iloc[recs.index]"
   ]
  },
  {
   "cell_type": "code",
   "execution_count": 81,
   "id": "af69cb6519f3c49a",
   "metadata": {
    "collapsed": false,
    "ExecuteTime": {
     "end_time": "2024-04-17T06:09:12.627316Z",
     "start_time": "2024-04-17T06:09:12.432587Z"
    }
   },
   "outputs": [
    {
     "name": "stdout",
     "output_type": "stream",
     "text": [
      "                   title              author  \\\n",
      "7213       Killing Floor           Lee Child   \n",
      "3209            Roseanna          Per Wahlöö   \n",
      "5659  The Clocks of Iraz  L. Sprague de Camp   \n",
      "7343          Saturnalia        Joel Spector   \n",
      "2154      Homeward Bound    Harry Turtledove   \n",
      "\n",
      "                                                summary            genre  \\\n",
      "7213   Jack Reacher gets off a Greyhound bus in the ...          Mystery   \n",
      "3209   A young woman is found dead in a canal, moles...    Crime Fiction   \n",
      "5659   In this sequel to The Goblin Tower, ex-king J...          Fantasy   \n",
      "7343   It is the Season of Misrule in Rome, sheer mi...          Mystery   \n",
      "2154   The Admiral Peary travels at approximately on...  Science Fiction   \n",
      "\n",
      "                                          summary_genre  \n",
      "7213   Jack Reacher gets off a Greyhound bus in the ...  \n",
      "3209   A young woman is found dead in a canal, moles...  \n",
      "5659   In this sequel to The Goblin Tower, ex-king J...  \n",
      "7343   It is the Season of Misrule in Rome, sheer mi...  \n",
      "2154   The Admiral Peary travels at approximately on...  \n"
     ]
    }
   ],
   "source": [
    "from sklearn.model_selection import train_test_split\n",
    "from tensorflow.keras.preprocessing.text import Tokenizer\n",
    "from tensorflow.keras.preprocessing.sequence import pad_sequences\n",
    "\n",
    "# Splitting the data into training and testing sets\n",
    "train, test = train_test_split(book_df, random_state=42, test_size=0.2, shuffle=True, stratify=book_df['genre'])\n",
    "\n",
    "print(train[0:5])"
   ]
  },
  {
   "cell_type": "code",
   "outputs": [
    {
     "name": "stdout",
     "output_type": "stream",
     "text": [
      "7213                   Mystery\n",
      "3209             Crime Fiction\n",
      "5659                   Fantasy\n",
      "7343                   Mystery\n",
      "2154           Science Fiction\n",
      "                 ...          \n",
      "618            Science Fiction\n",
      "6459    Young adult literature\n",
      "7302                   Fantasy\n",
      "219                    Mystery\n",
      "2179                   Fantasy\n",
      "Name: genre, Length: 9099, dtype: object\n"
     ]
    }
   ],
   "source": [
    "# Extracting features and labels for training and testing\n",
    "train_x = train.summary\n",
    "train_y = train.genre\n",
    "test_x = test.summary.to_numpy()\n",
    "test_y = test.genre.to_numpy()\n",
    "print(train_y)  # train based on genre and summary?"
   ],
   "metadata": {
    "collapsed": false,
    "ExecuteTime": {
     "end_time": "2024-04-17T06:09:03.816361Z",
     "start_time": "2024-04-17T06:09:03.786325Z"
    }
   },
   "id": "bc4603ceb09a458e",
   "execution_count": 80
  },
  {
   "cell_type": "code",
   "outputs": [],
   "source": [
    "# Parameters\n",
    "vocab_size = 10000    # Max size of vocabulary\n",
    "max_length = 100      # Max length of each sequence\n",
    "batch_size = 32\n",
    "embedding_dims = 10\n",
    "filters = 16\n",
    "kernel_size = 3\n",
    "hidden_dims = 250\n",
    "epochs = 10\n",
    "\n",
    "tokenizer = Tokenizer(num_words=vocab_size) # build word index\n",
    "tokenizer.fit_on_texts(train_x)  # creates dictionary mapping each word to an int\n",
    "\n",
    "# Convert texts to sequences of integers\n",
    "train_sequences = tokenizer.texts_to_sequences(train_x)  # converts text to a list of ints \n",
    "test_sequences = tokenizer.texts_to_sequences(test_x)       # converts text to a list of ints\n",
    "\n",
    "# Pad sequences to ensure uniform input size\n",
    "train_padded = pad_sequences(train_sequences, maxlen=max_length)  # make sure rows have same length\n",
    "test_padded = pad_sequences(test_sequences, maxlen=max_length)"
   ],
   "metadata": {
    "collapsed": false,
    "ExecuteTime": {
     "end_time": "2024-04-17T06:03:35.557571Z",
     "start_time": "2024-04-17T06:03:26.407543Z"
    }
   },
   "id": "bc28f7390ceaee81",
   "execution_count": 73
  },
  {
   "cell_type": "code",
   "outputs": [],
   "source": [
    "from sklearn.preprocessing import LabelEncoder\n",
    "from tensorflow.keras.utils import to_categorical\n",
    "\n",
    "encoder = LabelEncoder()\n",
    "train_labels = encoder.fit_transform(train_y) # transform labels into numeric format\n",
    "test_labels = encoder.transform(test_y)  # transform into numeric format\n",
    "\n",
    "# Convert labels to one-hot encoding\n",
    "train_labels = to_categorical(train_labels)  # creates the matrix for the labels \n",
    "test_labels = to_categorical(test_labels)"
   ],
   "metadata": {
    "collapsed": false,
    "ExecuteTime": {
     "end_time": "2024-04-17T06:03:37.665855Z",
     "start_time": "2024-04-17T06:03:37.642867Z"
    }
   },
   "id": "62c4bfd3fa384b00",
   "execution_count": 74
  },
  {
   "cell_type": "code",
   "outputs": [
    {
     "ename": "ValueError",
     "evalue": "Could not interpret initializer identifier: 100",
     "output_type": "error",
     "traceback": [
      "\u001B[1;31m---------------------------------------------------------------------------\u001B[0m",
      "\u001B[1;31mValueError\u001B[0m                                Traceback (most recent call last)",
      "Cell \u001B[1;32mIn[79], line 5\u001B[0m\n\u001B[0;32m      2\u001B[0m \u001B[38;5;28;01mfrom\u001B[39;00m \u001B[38;5;21;01mtensorflow\u001B[39;00m\u001B[38;5;21;01m.\u001B[39;00m\u001B[38;5;21;01mkeras\u001B[39;00m\u001B[38;5;21;01m.\u001B[39;00m\u001B[38;5;21;01mlayers\u001B[39;00m \u001B[38;5;28;01mimport\u001B[39;00m Embedding, Conv1D, GlobalMaxPooling1D, Dense, Dropout, Flatten\n\u001B[0;32m      4\u001B[0m model \u001B[38;5;241m=\u001B[39m Sequential()\n\u001B[1;32m----> 5\u001B[0m model\u001B[38;5;241m.\u001B[39madd(\u001B[43mEmbedding\u001B[49m\u001B[43m(\u001B[49m\u001B[43mvocab_size\u001B[49m\u001B[43m,\u001B[49m\u001B[43m \u001B[49m\u001B[38;5;241;43m10\u001B[39;49m\u001B[43m,\u001B[49m\u001B[43m \u001B[49m\u001B[43mmax_length\u001B[49m\u001B[43m)\u001B[49m)\n\u001B[0;32m      6\u001B[0m model\u001B[38;5;241m.\u001B[39madd(Dropout(\u001B[38;5;241m0.5\u001B[39m))\n\u001B[0;32m      7\u001B[0m model\u001B[38;5;241m.\u001B[39madd(Conv1D(filters, kernel_size, padding\u001B[38;5;241m=\u001B[39m\u001B[38;5;124m'\u001B[39m\u001B[38;5;124mvalid\u001B[39m\u001B[38;5;124m'\u001B[39m, activation\u001B[38;5;241m=\u001B[39m\u001B[38;5;124m'\u001B[39m\u001B[38;5;124mrelu\u001B[39m\u001B[38;5;124m'\u001B[39m))\n",
      "File \u001B[1;32mC:\\ProgramData\\anaconda3\\envs\\mlenv\\lib\\site-packages\\keras\\dtensor\\utils.py:96\u001B[0m, in \u001B[0;36mallow_initializer_layout.<locals>._wrap_function\u001B[1;34m(layer_instance, *args, **kwargs)\u001B[0m\n\u001B[0;32m     93\u001B[0m         \u001B[38;5;28;01mif\u001B[39;00m layout:\n\u001B[0;32m     94\u001B[0m             layout_args[variable_name \u001B[38;5;241m+\u001B[39m \u001B[38;5;124m\"\u001B[39m\u001B[38;5;124m_layout\u001B[39m\u001B[38;5;124m\"\u001B[39m] \u001B[38;5;241m=\u001B[39m layout\n\u001B[1;32m---> 96\u001B[0m init_method(layer_instance, \u001B[38;5;241m*\u001B[39margs, \u001B[38;5;241m*\u001B[39m\u001B[38;5;241m*\u001B[39mkwargs)\n\u001B[0;32m     98\u001B[0m \u001B[38;5;66;03m# Inject the layout parameter after the invocation of __init__()\u001B[39;00m\n\u001B[0;32m     99\u001B[0m \u001B[38;5;28;01mfor\u001B[39;00m layout_param_name, layout \u001B[38;5;129;01min\u001B[39;00m layout_args\u001B[38;5;241m.\u001B[39mitems():\n",
      "File \u001B[1;32mC:\\ProgramData\\anaconda3\\envs\\mlenv\\lib\\site-packages\\keras\\layers\\core\\embedding.py:153\u001B[0m, in \u001B[0;36mEmbedding.__init__\u001B[1;34m(self, input_dim, output_dim, embeddings_initializer, embeddings_regularizer, activity_regularizer, embeddings_constraint, mask_zero, input_length, **kwargs)\u001B[0m\n\u001B[0;32m    151\u001B[0m \u001B[38;5;28mself\u001B[39m\u001B[38;5;241m.\u001B[39minput_dim \u001B[38;5;241m=\u001B[39m input_dim\n\u001B[0;32m    152\u001B[0m \u001B[38;5;28mself\u001B[39m\u001B[38;5;241m.\u001B[39moutput_dim \u001B[38;5;241m=\u001B[39m output_dim\n\u001B[1;32m--> 153\u001B[0m \u001B[38;5;28mself\u001B[39m\u001B[38;5;241m.\u001B[39membeddings_initializer \u001B[38;5;241m=\u001B[39m \u001B[43minitializers\u001B[49m\u001B[38;5;241;43m.\u001B[39;49m\u001B[43mget\u001B[49m\u001B[43m(\u001B[49m\u001B[43membeddings_initializer\u001B[49m\u001B[43m)\u001B[49m\n\u001B[0;32m    154\u001B[0m \u001B[38;5;28mself\u001B[39m\u001B[38;5;241m.\u001B[39membeddings_regularizer \u001B[38;5;241m=\u001B[39m regularizers\u001B[38;5;241m.\u001B[39mget(embeddings_regularizer)\n\u001B[0;32m    155\u001B[0m \u001B[38;5;28mself\u001B[39m\u001B[38;5;241m.\u001B[39mactivity_regularizer \u001B[38;5;241m=\u001B[39m regularizers\u001B[38;5;241m.\u001B[39mget(activity_regularizer)\n",
      "File \u001B[1;32mC:\\ProgramData\\anaconda3\\envs\\mlenv\\lib\\site-packages\\keras\\initializers\\__init__.py:198\u001B[0m, in \u001B[0;36mget\u001B[1;34m(identifier)\u001B[0m\n\u001B[0;32m    196\u001B[0m     \u001B[38;5;28;01mreturn\u001B[39;00m identifier\n\u001B[0;32m    197\u001B[0m \u001B[38;5;28;01melse\u001B[39;00m:\n\u001B[1;32m--> 198\u001B[0m     \u001B[38;5;28;01mraise\u001B[39;00m \u001B[38;5;167;01mValueError\u001B[39;00m(\n\u001B[0;32m    199\u001B[0m         \u001B[38;5;124m\"\u001B[39m\u001B[38;5;124mCould not interpret initializer identifier: \u001B[39m\u001B[38;5;124m\"\u001B[39m \u001B[38;5;241m+\u001B[39m \u001B[38;5;28mstr\u001B[39m(identifier)\n\u001B[0;32m    200\u001B[0m     )\n",
      "\u001B[1;31mValueError\u001B[0m: Could not interpret initializer identifier: 100"
     ]
    }
   ],
   "source": [
    "from tensorflow.keras.models import Sequential\n",
    "from tensorflow.keras.layers import Embedding, Conv1D, GlobalMaxPooling1D, Dense, Dropout, Flatten, GlobalAveragePooling1D\n",
    "\n",
    "from tensorflow.keras.layers import Dropout\n",
    "\n",
    "model = Sequential([\n",
    "    Embedding(vocab_size, 50, input_length=max_length),\n",
    "    Conv1D(128, 5, activation='relu'),\n",
    "    Dropout(0.5),\n",
    "    GlobalAveragePooling1D(),\n",
    "    Dense(64, activation='relu'),\n",
    "    Dropout(0.5),\n",
    "    Dense(train_labels.shape[1], activation='softmax')\n",
    "])\n",
    "\n",
    "model.compile(loss='categorical_crossentropy', optimizer='adam', metrics=['accuracy'])"
   ],
   "metadata": {
    "collapsed": false,
    "ExecuteTime": {
     "end_time": "2024-04-17T06:06:44.243510Z",
     "start_time": "2024-04-17T06:06:44.156198Z"
    }
   },
   "id": "dea0e4530087bb1a",
   "execution_count": 79
  },
  {
   "cell_type": "code",
   "outputs": [
    {
     "name": "stdout",
     "output_type": "stream",
     "text": [
      "Epoch 1/100\n",
      "285/285 - 6s - loss: 1.8862 - accuracy: 0.2505 - val_loss: 1.8165 - val_accuracy: 0.2914 - 6s/epoch - 20ms/step\n",
      "Epoch 2/100\n",
      "285/285 - 4s - loss: 1.6367 - accuracy: 0.3781 - val_loss: 1.6159 - val_accuracy: 0.4343 - 4s/epoch - 14ms/step\n",
      "Epoch 3/100\n",
      "285/285 - 4s - loss: 1.4124 - accuracy: 0.4685 - val_loss: 1.4999 - val_accuracy: 0.4523 - 4s/epoch - 14ms/step\n",
      "Epoch 4/100\n",
      "285/285 - 4s - loss: 1.2704 - accuracy: 0.5153 - val_loss: 1.4611 - val_accuracy: 0.4387 - 4s/epoch - 14ms/step\n",
      "Epoch 5/100\n",
      "285/285 - 4s - loss: 1.1582 - accuracy: 0.5407 - val_loss: 1.4725 - val_accuracy: 0.4220 - 4s/epoch - 15ms/step\n",
      "Epoch 6/100\n",
      "285/285 - 4s - loss: 1.0813 - accuracy: 0.5661 - val_loss: 1.4745 - val_accuracy: 0.4163 - 4s/epoch - 14ms/step\n",
      "Epoch 7/100\n",
      "285/285 - 4s - loss: 1.0118 - accuracy: 0.5856 - val_loss: 1.5011 - val_accuracy: 0.4044 - 4s/epoch - 15ms/step\n",
      "Epoch 8/100\n",
      "285/285 - 4s - loss: 0.9560 - accuracy: 0.6015 - val_loss: 1.5261 - val_accuracy: 0.3974 - 4s/epoch - 14ms/step\n",
      "Epoch 9/100\n",
      "285/285 - 4s - loss: 0.9163 - accuracy: 0.6170 - val_loss: 1.5453 - val_accuracy: 0.3837 - 4s/epoch - 15ms/step\n",
      "Epoch 10/100\n",
      "285/285 - 4s - loss: 0.8695 - accuracy: 0.6360 - val_loss: 1.5707 - val_accuracy: 0.3714 - 4s/epoch - 14ms/step\n",
      "Epoch 11/100\n",
      "285/285 - 4s - loss: 0.8256 - accuracy: 0.6463 - val_loss: 1.5811 - val_accuracy: 0.3666 - 4s/epoch - 14ms/step\n",
      "Epoch 12/100\n",
      "285/285 - 4s - loss: 0.7810 - accuracy: 0.6603 - val_loss: 1.6300 - val_accuracy: 0.3604 - 4s/epoch - 14ms/step\n",
      "Epoch 13/100\n",
      "285/285 - 4s - loss: 0.7688 - accuracy: 0.6614 - val_loss: 1.6724 - val_accuracy: 0.3657 - 4s/epoch - 15ms/step\n",
      "Epoch 14/100\n",
      "285/285 - 4s - loss: 0.7348 - accuracy: 0.6735 - val_loss: 1.7803 - val_accuracy: 0.3684 - 4s/epoch - 14ms/step\n",
      "Epoch 15/100\n",
      "285/285 - 4s - loss: 0.7102 - accuracy: 0.6772 - val_loss: 1.7550 - val_accuracy: 0.3653 - 4s/epoch - 15ms/step\n",
      "Epoch 16/100\n",
      "285/285 - 4s - loss: 0.6858 - accuracy: 0.6838 - val_loss: 1.8698 - val_accuracy: 0.3635 - 4s/epoch - 15ms/step\n",
      "Epoch 17/100\n",
      "285/285 - 4s - loss: 0.6760 - accuracy: 0.6900 - val_loss: 1.9818 - val_accuracy: 0.3618 - 4s/epoch - 15ms/step\n",
      "Epoch 18/100\n",
      "285/285 - 4s - loss: 0.6588 - accuracy: 0.6917 - val_loss: 1.9041 - val_accuracy: 0.3552 - 4s/epoch - 15ms/step\n",
      "Epoch 19/100\n",
      "285/285 - 4s - loss: 0.6383 - accuracy: 0.6957 - val_loss: 2.0506 - val_accuracy: 0.3446 - 4s/epoch - 14ms/step\n",
      "Epoch 20/100\n",
      "285/285 - 4s - loss: 0.6192 - accuracy: 0.7048 - val_loss: 2.1579 - val_accuracy: 0.3191 - 4s/epoch - 15ms/step\n",
      "Epoch 21/100\n",
      "285/285 - 4s - loss: 0.6192 - accuracy: 0.7044 - val_loss: 2.2439 - val_accuracy: 0.3108 - 4s/epoch - 15ms/step\n",
      "Epoch 22/100\n",
      "285/285 - 4s - loss: 0.6053 - accuracy: 0.7093 - val_loss: 2.3440 - val_accuracy: 0.3284 - 4s/epoch - 15ms/step\n",
      "Epoch 23/100\n",
      "285/285 - 4s - loss: 0.5941 - accuracy: 0.7106 - val_loss: 2.3734 - val_accuracy: 0.3138 - 4s/epoch - 15ms/step\n",
      "Epoch 24/100\n",
      "285/285 - 4s - loss: 0.5803 - accuracy: 0.7085 - val_loss: 2.4710 - val_accuracy: 0.3169 - 4s/epoch - 14ms/step\n",
      "Epoch 25/100\n",
      "285/285 - 4s - loss: 0.5778 - accuracy: 0.7187 - val_loss: 2.7274 - val_accuracy: 0.3125 - 4s/epoch - 15ms/step\n",
      "Epoch 26/100\n",
      "285/285 - 4s - loss: 0.5639 - accuracy: 0.7159 - val_loss: 2.7530 - val_accuracy: 0.3147 - 4s/epoch - 15ms/step\n",
      "Epoch 27/100\n",
      "285/285 - 4s - loss: 0.5586 - accuracy: 0.7238 - val_loss: 2.6945 - val_accuracy: 0.3121 - 4s/epoch - 15ms/step\n",
      "Epoch 28/100\n",
      "285/285 - 4s - loss: 0.5548 - accuracy: 0.7215 - val_loss: 2.7211 - val_accuracy: 0.3116 - 4s/epoch - 15ms/step\n",
      "Epoch 29/100\n",
      "285/285 - 4s - loss: 0.5426 - accuracy: 0.7300 - val_loss: 2.8367 - val_accuracy: 0.3152 - 4s/epoch - 15ms/step\n",
      "Epoch 30/100\n",
      "285/285 - 4s - loss: 0.5428 - accuracy: 0.7230 - val_loss: 3.2223 - val_accuracy: 0.3156 - 4s/epoch - 15ms/step\n",
      "Epoch 31/100\n",
      "285/285 - 4s - loss: 0.5481 - accuracy: 0.7251 - val_loss: 2.9698 - val_accuracy: 0.3086 - 4s/epoch - 14ms/step\n",
      "Epoch 32/100\n",
      "285/285 - 4s - loss: 0.5290 - accuracy: 0.7270 - val_loss: 3.1023 - val_accuracy: 0.3112 - 4s/epoch - 15ms/step\n",
      "Epoch 33/100\n",
      "285/285 - 4s - loss: 0.5333 - accuracy: 0.7258 - val_loss: 2.9121 - val_accuracy: 0.2958 - 4s/epoch - 16ms/step\n",
      "Epoch 34/100\n",
      "285/285 - 4s - loss: 0.5318 - accuracy: 0.7317 - val_loss: 3.1963 - val_accuracy: 0.3020 - 4s/epoch - 14ms/step\n",
      "Epoch 35/100\n",
      "285/285 - 4s - loss: 0.5217 - accuracy: 0.7334 - val_loss: 2.9296 - val_accuracy: 0.2989 - 4s/epoch - 14ms/step\n",
      "Epoch 36/100\n",
      "285/285 - 4s - loss: 0.5169 - accuracy: 0.7311 - val_loss: 3.5217 - val_accuracy: 0.3086 - 4s/epoch - 15ms/step\n",
      "Epoch 37/100\n",
      "285/285 - 4s - loss: 0.5126 - accuracy: 0.7295 - val_loss: 3.3999 - val_accuracy: 0.3020 - 4s/epoch - 15ms/step\n",
      "Epoch 38/100\n",
      "285/285 - 4s - loss: 0.5039 - accuracy: 0.7358 - val_loss: 3.4796 - val_accuracy: 0.2985 - 4s/epoch - 15ms/step\n",
      "Epoch 39/100\n",
      "285/285 - 4s - loss: 0.5074 - accuracy: 0.7346 - val_loss: 3.6638 - val_accuracy: 0.2980 - 4s/epoch - 14ms/step\n",
      "Epoch 40/100\n",
      "285/285 - 4s - loss: 0.4993 - accuracy: 0.7372 - val_loss: 3.6896 - val_accuracy: 0.2980 - 4s/epoch - 15ms/step\n",
      "Epoch 41/100\n",
      "285/285 - 4s - loss: 0.5027 - accuracy: 0.7354 - val_loss: 3.6310 - val_accuracy: 0.2923 - 4s/epoch - 15ms/step\n",
      "Epoch 42/100\n",
      "285/285 - 4s - loss: 0.5008 - accuracy: 0.7314 - val_loss: 3.4909 - val_accuracy: 0.2927 - 4s/epoch - 14ms/step\n",
      "Epoch 43/100\n",
      "285/285 - 4s - loss: 0.4919 - accuracy: 0.7379 - val_loss: 3.5206 - val_accuracy: 0.2976 - 4s/epoch - 15ms/step\n",
      "Epoch 44/100\n",
      "285/285 - 4s - loss: 0.5041 - accuracy: 0.7341 - val_loss: 3.8565 - val_accuracy: 0.3086 - 4s/epoch - 14ms/step\n",
      "Epoch 45/100\n",
      "285/285 - 4s - loss: 0.4868 - accuracy: 0.7313 - val_loss: 3.3542 - val_accuracy: 0.2844 - 4s/epoch - 14ms/step\n",
      "Epoch 46/100\n",
      "285/285 - 4s - loss: 0.4811 - accuracy: 0.7373 - val_loss: 3.8648 - val_accuracy: 0.2980 - 4s/epoch - 15ms/step\n",
      "Epoch 47/100\n",
      "285/285 - 4s - loss: 0.4863 - accuracy: 0.7373 - val_loss: 4.2007 - val_accuracy: 0.3077 - 4s/epoch - 14ms/step\n",
      "Epoch 48/100\n",
      "285/285 - 4s - loss: 0.4842 - accuracy: 0.7395 - val_loss: 4.0186 - val_accuracy: 0.2971 - 4s/epoch - 15ms/step\n",
      "Epoch 49/100\n",
      "285/285 - 4s - loss: 0.4770 - accuracy: 0.7363 - val_loss: 4.0553 - val_accuracy: 0.3037 - 4s/epoch - 15ms/step\n",
      "Epoch 50/100\n",
      "285/285 - 4s - loss: 0.4731 - accuracy: 0.7398 - val_loss: 4.1364 - val_accuracy: 0.2936 - 4s/epoch - 14ms/step\n",
      "Epoch 51/100\n",
      "285/285 - 4s - loss: 0.4787 - accuracy: 0.7399 - val_loss: 4.2241 - val_accuracy: 0.2985 - 4s/epoch - 15ms/step\n",
      "Epoch 52/100\n",
      "285/285 - 4s - loss: 0.4707 - accuracy: 0.7376 - val_loss: 4.4782 - val_accuracy: 0.3020 - 4s/epoch - 14ms/step\n",
      "Epoch 53/100\n",
      "285/285 - 4s - loss: 0.4736 - accuracy: 0.7460 - val_loss: 4.1587 - val_accuracy: 0.2954 - 4s/epoch - 14ms/step\n",
      "Epoch 54/100\n",
      "285/285 - 4s - loss: 0.4768 - accuracy: 0.7423 - val_loss: 4.1864 - val_accuracy: 0.2875 - 4s/epoch - 14ms/step\n",
      "Epoch 55/100\n",
      "285/285 - 4s - loss: 0.4676 - accuracy: 0.7445 - val_loss: 4.6352 - val_accuracy: 0.2905 - 4s/epoch - 15ms/step\n",
      "Epoch 56/100\n",
      "285/285 - 4s - loss: 0.4693 - accuracy: 0.7390 - val_loss: 4.7929 - val_accuracy: 0.3029 - 4s/epoch - 16ms/step\n",
      "Epoch 57/100\n",
      "285/285 - 4s - loss: 0.4600 - accuracy: 0.7423 - val_loss: 4.4408 - val_accuracy: 0.2980 - 4s/epoch - 15ms/step\n",
      "Epoch 58/100\n",
      "285/285 - 4s - loss: 0.4616 - accuracy: 0.7399 - val_loss: 4.8637 - val_accuracy: 0.3020 - 4s/epoch - 14ms/step\n",
      "Epoch 59/100\n",
      "285/285 - 4s - loss: 0.4594 - accuracy: 0.7460 - val_loss: 4.7289 - val_accuracy: 0.2905 - 4s/epoch - 15ms/step\n",
      "Epoch 60/100\n",
      "285/285 - 4s - loss: 0.4575 - accuracy: 0.7400 - val_loss: 4.4594 - val_accuracy: 0.2870 - 4s/epoch - 15ms/step\n",
      "Epoch 61/100\n",
      "285/285 - 4s - loss: 0.4613 - accuracy: 0.7356 - val_loss: 4.3574 - val_accuracy: 0.2901 - 4s/epoch - 14ms/step\n",
      "Epoch 62/100\n",
      "285/285 - 4s - loss: 0.4596 - accuracy: 0.7444 - val_loss: 4.8834 - val_accuracy: 0.3015 - 4s/epoch - 14ms/step\n",
      "Epoch 63/100\n",
      "285/285 - 4s - loss: 0.4629 - accuracy: 0.7445 - val_loss: 4.9738 - val_accuracy: 0.2927 - 4s/epoch - 14ms/step\n",
      "Epoch 64/100\n",
      "285/285 - 4s - loss: 0.4533 - accuracy: 0.7395 - val_loss: 5.2185 - val_accuracy: 0.2919 - 4s/epoch - 14ms/step\n",
      "Epoch 65/100\n",
      "285/285 - 4s - loss: 0.4508 - accuracy: 0.7410 - val_loss: 5.0760 - val_accuracy: 0.2998 - 4s/epoch - 14ms/step\n",
      "Epoch 66/100\n",
      "285/285 - 4s - loss: 0.4542 - accuracy: 0.7438 - val_loss: 4.9499 - val_accuracy: 0.2980 - 4s/epoch - 14ms/step\n",
      "Epoch 67/100\n",
      "285/285 - 4s - loss: 0.4526 - accuracy: 0.7423 - val_loss: 5.1508 - val_accuracy: 0.2888 - 4s/epoch - 14ms/step\n",
      "Epoch 68/100\n",
      "285/285 - 4s - loss: 0.4555 - accuracy: 0.7369 - val_loss: 5.0023 - val_accuracy: 0.2976 - 4s/epoch - 14ms/step\n",
      "Epoch 69/100\n",
      "285/285 - 4s - loss: 0.4455 - accuracy: 0.7461 - val_loss: 5.4133 - val_accuracy: 0.2919 - 4s/epoch - 14ms/step\n",
      "Epoch 70/100\n",
      "285/285 - 4s - loss: 0.4509 - accuracy: 0.7435 - val_loss: 4.8475 - val_accuracy: 0.2936 - 4s/epoch - 14ms/step\n",
      "Epoch 71/100\n",
      "285/285 - 4s - loss: 0.4458 - accuracy: 0.7384 - val_loss: 5.1780 - val_accuracy: 0.2989 - 4s/epoch - 14ms/step\n",
      "Epoch 72/100\n",
      "285/285 - 4s - loss: 0.4568 - accuracy: 0.7417 - val_loss: 4.7730 - val_accuracy: 0.2888 - 4s/epoch - 14ms/step\n",
      "Epoch 73/100\n",
      "285/285 - 4s - loss: 0.4528 - accuracy: 0.7424 - val_loss: 5.5483 - val_accuracy: 0.2963 - 4s/epoch - 14ms/step\n",
      "Epoch 74/100\n",
      "285/285 - 4s - loss: 0.4462 - accuracy: 0.7466 - val_loss: 5.1189 - val_accuracy: 0.2941 - 4s/epoch - 14ms/step\n",
      "Epoch 75/100\n",
      "285/285 - 4s - loss: 0.4446 - accuracy: 0.7452 - val_loss: 5.4290 - val_accuracy: 0.2949 - 4s/epoch - 14ms/step\n",
      "Epoch 76/100\n",
      "285/285 - 4s - loss: 0.4427 - accuracy: 0.7471 - val_loss: 5.5552 - val_accuracy: 0.3007 - 4s/epoch - 14ms/step\n",
      "Epoch 77/100\n",
      "285/285 - 4s - loss: 0.4491 - accuracy: 0.7433 - val_loss: 4.9549 - val_accuracy: 0.3033 - 4s/epoch - 14ms/step\n",
      "Epoch 78/100\n",
      "285/285 - 4s - loss: 0.4393 - accuracy: 0.7430 - val_loss: 5.2206 - val_accuracy: 0.3020 - 4s/epoch - 14ms/step\n",
      "Epoch 79/100\n",
      "285/285 - 4s - loss: 0.4343 - accuracy: 0.7465 - val_loss: 5.6626 - val_accuracy: 0.3033 - 4s/epoch - 14ms/step\n",
      "Epoch 80/100\n",
      "285/285 - 4s - loss: 0.4450 - accuracy: 0.7456 - val_loss: 5.1570 - val_accuracy: 0.3007 - 4s/epoch - 15ms/step\n",
      "Epoch 81/100\n",
      "285/285 - 4s - loss: 0.4409 - accuracy: 0.7481 - val_loss: 5.3270 - val_accuracy: 0.2985 - 4s/epoch - 15ms/step\n",
      "Epoch 82/100\n",
      "285/285 - 4s - loss: 0.4367 - accuracy: 0.7467 - val_loss: 5.9917 - val_accuracy: 0.2945 - 4s/epoch - 14ms/step\n",
      "Epoch 83/100\n",
      "285/285 - 4s - loss: 0.4444 - accuracy: 0.7473 - val_loss: 5.2836 - val_accuracy: 0.2875 - 4s/epoch - 14ms/step\n",
      "Epoch 84/100\n",
      "285/285 - 4s - loss: 0.4455 - accuracy: 0.7461 - val_loss: 5.2830 - val_accuracy: 0.2954 - 4s/epoch - 14ms/step\n",
      "Epoch 85/100\n",
      "285/285 - 4s - loss: 0.4430 - accuracy: 0.7458 - val_loss: 5.2348 - val_accuracy: 0.3020 - 4s/epoch - 14ms/step\n",
      "Epoch 86/100\n",
      "285/285 - 4s - loss: 0.4444 - accuracy: 0.7527 - val_loss: 5.0534 - val_accuracy: 0.2888 - 4s/epoch - 14ms/step\n",
      "Epoch 87/100\n",
      "285/285 - 4s - loss: 0.4320 - accuracy: 0.7463 - val_loss: 5.6585 - val_accuracy: 0.2870 - 4s/epoch - 14ms/step\n",
      "Epoch 88/100\n",
      "285/285 - 4s - loss: 0.4355 - accuracy: 0.7536 - val_loss: 5.2911 - val_accuracy: 0.2949 - 4s/epoch - 14ms/step\n",
      "Epoch 89/100\n",
      "285/285 - 4s - loss: 0.4279 - accuracy: 0.7468 - val_loss: 6.0916 - val_accuracy: 0.2980 - 4s/epoch - 14ms/step\n",
      "Epoch 90/100\n",
      "285/285 - 4s - loss: 0.4252 - accuracy: 0.7489 - val_loss: 5.6677 - val_accuracy: 0.3007 - 4s/epoch - 14ms/step\n",
      "Epoch 91/100\n",
      "285/285 - 4s - loss: 0.4291 - accuracy: 0.7489 - val_loss: 5.8846 - val_accuracy: 0.2993 - 4s/epoch - 14ms/step\n",
      "Epoch 92/100\n",
      "285/285 - 4s - loss: 0.4385 - accuracy: 0.7472 - val_loss: 5.2077 - val_accuracy: 0.2967 - 4s/epoch - 14ms/step\n",
      "Epoch 93/100\n",
      "285/285 - 4s - loss: 0.4271 - accuracy: 0.7476 - val_loss: 6.0220 - val_accuracy: 0.2888 - 4s/epoch - 14ms/step\n",
      "Epoch 94/100\n",
      "285/285 - 4s - loss: 0.4315 - accuracy: 0.7552 - val_loss: 5.9541 - val_accuracy: 0.2892 - 4s/epoch - 14ms/step\n",
      "Epoch 95/100\n",
      "285/285 - 4s - loss: 0.4382 - accuracy: 0.7454 - val_loss: 5.5717 - val_accuracy: 0.2949 - 4s/epoch - 14ms/step\n",
      "Epoch 96/100\n",
      "285/285 - 4s - loss: 0.4303 - accuracy: 0.7492 - val_loss: 6.4072 - val_accuracy: 0.2971 - 4s/epoch - 15ms/step\n",
      "Epoch 97/100\n",
      "285/285 - 4s - loss: 0.4267 - accuracy: 0.7502 - val_loss: 6.2365 - val_accuracy: 0.2932 - 4s/epoch - 15ms/step\n",
      "Epoch 98/100\n",
      "285/285 - 4s - loss: 0.4268 - accuracy: 0.7451 - val_loss: 5.7430 - val_accuracy: 0.2919 - 4s/epoch - 14ms/step\n",
      "Epoch 99/100\n",
      "285/285 - 4s - loss: 0.4223 - accuracy: 0.7494 - val_loss: 5.9934 - val_accuracy: 0.2910 - 4s/epoch - 14ms/step\n",
      "Epoch 100/100\n",
      "285/285 - 4s - loss: 0.4167 - accuracy: 0.7532 - val_loss: 6.5715 - val_accuracy: 0.3024 - 4s/epoch - 14ms/step\n"
     ]
    }
   ],
   "source": [
    "history = model.fit(\n",
    "    train_padded, train_labels,\n",
    "    epochs=100,\n",
    "    validation_data=(test_padded, test_labels),\n",
    "    verbose=2\n",
    ")"
   ],
   "metadata": {
    "collapsed": false,
    "ExecuteTime": {
     "end_time": "2024-04-17T05:50:41.643632Z",
     "start_time": "2024-04-17T05:43:46.510619Z"
    }
   },
   "id": "4c851e55bbb17e0",
   "execution_count": 70
  },
  {
   "cell_type": "code",
   "outputs": [
    {
     "name": "stdout",
     "output_type": "stream",
     "text": [
      "72/72 - 0s - loss: 6.5715 - accuracy: 0.3024 - 330ms/epoch - 5ms/step\n",
      "Test Loss, Test Accuracy: [6.571531772613525, 0.3024175763130188]\n",
      "Model saved in HDF5 format.\n",
      "Final Training Accuracy: 75.32%\n",
      "Final Validation Accuracy: 30.24%\n"
     ]
    }
   ],
   "source": [
    "results = model.evaluate(test_padded, test_labels, verbose=2)\n",
    "print(\"Test Loss, Test Accuracy:\", results)\n",
    "\n",
    "# Save the model\n",
    "model.save(\"text_classification_cnn_model.h5\")\n",
    "print(\"Model saved in HDF5 format.\")\n",
    "\n",
    "# Print the last accuracy and validation accuracy\n",
    "final_accuracy = history.history['accuracy'][-1]\n",
    "final_val_accuracy = history.history['val_accuracy'][-1]\n",
    "print(f\"Final Training Accuracy: {final_accuracy*100:.2f}%\")\n",
    "print(f\"Final Validation Accuracy: {final_val_accuracy*100:.2f}%\")"
   ],
   "metadata": {
    "collapsed": false,
    "ExecuteTime": {
     "end_time": "2024-04-17T05:51:15.454300Z",
     "start_time": "2024-04-17T05:51:14.770578Z"
    }
   },
   "id": "8406216a5f88a14",
   "execution_count": 71
  },
  {
   "cell_type": "code",
   "outputs": [
    {
     "data": {
      "text/plain": "<Figure size 1200x400 with 2 Axes>",
      "image/png": "[encoded data removed]"
     },
     "metadata": {},
     "output_type": "display_data"
    }
   ],
   "source": [
    "import matplotlib.pyplot as plt\n",
    "\n",
    "plt.figure(figsize=(12, 4))\n",
    "plt.subplot(1, 2, 1)\n",
    "plt.plot(history.history['accuracy'], label='Training Accuracy')\n",
    "plt.plot(history.history['val_accuracy'], label='Validation Accuracy')\n",
    "plt.legend()\n",
    "plt.title('Training and Validation Accuracy')\n",
    "\n",
    "plt.subplot(1, 2, 2)\n",
    "plt.plot(history.history['loss'], label='Training Loss')\n",
    "plt.plot(history.history['val_loss'], label='Validation Loss')\n",
    "plt.legend()\n",
    "plt.title('Training and Validation Loss')\n",
    "plt.show()"
   ],
   "metadata": {
    "collapsed": false,
    "ExecuteTime": {
     "end_time": "2024-04-17T05:36:03.107738Z",
     "start_time": "2024-04-17T05:36:01.379720Z"
    }
   },
   "id": "3483ae6f8140c407",
   "execution_count": 65
  },
  {
   "cell_type": "code",
   "outputs": [
    {
     "name": "stdout",
     "output_type": "stream",
     "text": [
      "Training dataset = 9099\n",
      "Testing dataset = 2275\n"
     ]
    },
    {
     "data": {
      "text/plain": "<Figure size 2500x800 with 2 Axes>",
      "image/png": "[encoded data removed]"
     },
     "metadata": {},
     "output_type": "display_data"
    }
   ],
   "source": [
    "# Printing the size of the training and testing datasets\n",
    "print(\"Training dataset = {}\".format(len(train_x)))\n",
    "print(\"Testing dataset = {}\".format(len(test_x)))\n",
    "\n",
    "# Visualizing the distribution of genres in the training and testing datasets\n",
    "colors=['tab:orange', 'tab:green', 'tab:blue', 'tab:brown', 'tab:pink', 'tab:purple','tab:red', 'tab:gray', 'tab:olive']\n",
    "plt.figure(figsize=(25,8))\n",
    "plt.subplot(1,2,1).set_title(\"Train Dataset-Counts per Genre\")\n",
    "train.groupby('genre').size().sort_values(ascending=True).plot(kind='barh', color=colors,ax=plt.gca())\n",
    "plt.subplot(1,2,2).set_title(\"Test Dataset-Counts per Genre\")\n",
    "test.groupby('genre').size().sort_values(ascending=True).plot(kind='barh', color=colors,ax=plt.gca())\n",
    "plt.show()\n",
    "from sklearn.pipeline import Pipeline"
   ],
   "metadata": {
    "ExecuteTime": {
     "end_time": "2024-04-17T05:35:57.853430Z",
     "start_time": "2024-04-17T05:35:57.288507Z"
    }
   },
   "id": "4b22ebc4",
   "execution_count": 64
  },
  {
   "cell_type": "code",
   "execution_count": 66,
   "id": "d4094c50",
   "metadata": {
    "ExecuteTime": {
     "end_time": "2024-04-17T05:36:23.237214Z",
     "start_time": "2024-04-17T05:36:14.190447Z"
    }
   },
   "outputs": [
    {
     "name": "stdout",
     "output_type": "stream",
     "text": [
      "Model has been saved as ./NB_model.sav\n",
      "#### Model Evaluation on Test Data: ####\n",
      "Train Accuracy : 0.582\n",
      "Test Accuracy : 0.411\n"
     ]
    }
   ],
   "source": [
    "# train the model using Naive Bayes model\n",
    "from sklearn.pipeline import Pipeline\n",
    "from sklearn.multiclass import OneVsRestClassifier\n",
    "from sklearn.naive_bayes import MultinomialNB\n",
    "import joblib\n",
    "# Define and train your model using the training data\n",
    "NB_pipeline = Pipeline([\n",
    "                ('tfidf', TfidfVectorizer(stop_words='english', ngram_range=(1,1), use_idf=True)),\n",
    "                ('clf', OneVsRestClassifier(MultinomialNB())),\n",
    "            ])\n",
    "NB_pipeline.fit(train_x, train_y)\n",
    "\n",
    "# Save the trained model\n",
    "filename = \"./NB_model.sav\"\n",
    "joblib.dump(NB_pipeline, filename)\n",
    "print(\"Model has been saved as {}\".format(filename))\n",
    "\n",
    "# Evaluate the model on the testing data\n",
    "print(\"#### Model Evaluation on Test Data: ####\")\n",
    "print('Train Accuracy : %.3f'%NB_pipeline.score(train_x, train_y))\n",
    "print('Test Accuracy : %.3f'%NB_pipeline.score(test_x, test_y))"
   ]
  },
  {
   "cell_type": "code",
   "execution_count": null,
   "id": "fbdb463a",
   "metadata": {},
   "outputs": [],
   "source": [
    "##merge a few categories "
   ]
  },
  {
   "cell_type": "code",
   "execution_count": 25,
   "id": "c62adcb4",
   "metadata": {},
   "outputs": [
    {
     "data": {
      "text/plain": [
       "<function list.count(value, /)>"
      ]
     },
     "execution_count": 25,
     "metadata": {},
     "output_type": "execute_result"
    }
   ],
   "source": [
    "##Bin genres into 10 types (..) with strings that contain \n",
    "##fantasy = '\\WFantasy\\W'\n",
    "##"
   ]
  },
  {
   "cell_type": "code",
   "execution_count": null,
   "id": "298d1cbc",
   "metadata": {},
   "outputs": [],
   "source": [
    "for genres_item in genres_column:\n",
    "    if isinstance(genres_item, str):\n",
    "        # Split the string by comma and extend the list of all genres\n",
    "        all_genres.extend([genre.strip() for genre in genres_item.split(',')])\n",
    "        if "
   ]
  }
 ],
 "metadata": {
  "kernelspec": {
   "display_name": "Python 3 (ipykernel)",
   "language": "python",
   "name": "python3"
  },
  "language_info": {
   "codemirror_mode": {
    "name": "ipython",
    "version": 3
   },
   "file_extension": ".py",
   "mimetype": "text/x-python",
   "name": "python",
   "nbconvert_exporter": "python",
   "pygments_lexer": "ipython3",
   "version": "3.11.4"
  }
 },
 "nbformat": 4,
 "nbformat_minor": 5
}
